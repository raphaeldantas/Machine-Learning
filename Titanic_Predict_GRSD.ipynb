{
  "nbformat": 4,
  "nbformat_minor": 0,
  "metadata": {
    "kernelspec": {
      "display_name": "Python 3",
      "language": "python",
      "name": "python3"
    },
    "language_info": {
      "codemirror_mode": {
        "name": "ipython",
        "version": 3
      },
      "file_extension": ".py",
      "mimetype": "text/x-python",
      "name": "python",
      "nbconvert_exporter": "python",
      "pygments_lexer": "ipython3",
      "version": "3.7.3"
    },
    "colab": {
      "name": "Titanic_Predict_GRSD.ipynb",
      "provenance": [],
      "collapsed_sections": [],
      "toc_visible": true
    }
  },
  "cells": [
    {
      "cell_type": "code",
      "metadata": {
        "id": "-oL9lV4LDc5T",
        "colab_type": "code",
        "outputId": "18ac3f65-e0ad-4705-e70a-5e5f0f6e644a",
        "colab": {
          "base_uri": "https://localhost:8080/",
          "height": 1000
        }
      },
      "source": [
        "!pip install pandas_profiling==2.7.0"
      ],
      "execution_count": 1,
      "outputs": [
        {
          "output_type": "stream",
          "text": [
            "Requirement already satisfied: pandas_profiling==2.7.0 in /usr/local/lib/python3.6/dist-packages (2.7.0)\n",
            "Requirement already satisfied: missingno>=0.4.2 in /usr/local/lib/python3.6/dist-packages (from pandas_profiling==2.7.0) (0.4.2)\n",
            "Requirement already satisfied: tangled-up-in-unicode>=0.0.4 in /usr/local/lib/python3.6/dist-packages (from pandas_profiling==2.7.0) (0.0.6)\n",
            "Requirement already satisfied: visions[type_image_path]>=0.4.1 in /usr/local/lib/python3.6/dist-packages (from pandas_profiling==2.7.0) (0.4.4)\n",
            "Requirement already satisfied: requests>=2.23.0 in /usr/local/lib/python3.6/dist-packages (from pandas_profiling==2.7.0) (2.23.0)\n",
            "Requirement already satisfied: pandas!=1.0.0,!=1.0.1,!=1.0.2,>=0.25.3 in /usr/local/lib/python3.6/dist-packages (from pandas_profiling==2.7.0) (1.0.3)\n",
            "Requirement already satisfied: astropy>=4.0 in /usr/local/lib/python3.6/dist-packages (from pandas_profiling==2.7.0) (4.0.1.post1)\n",
            "Requirement already satisfied: scipy>=1.4.1 in /usr/local/lib/python3.6/dist-packages (from pandas_profiling==2.7.0) (1.4.1)\n",
            "Requirement already satisfied: joblib in /usr/local/lib/python3.6/dist-packages (from pandas_profiling==2.7.0) (0.15.1)\n",
            "Requirement already satisfied: htmlmin>=0.1.12 in /usr/local/lib/python3.6/dist-packages (from pandas_profiling==2.7.0) (0.1.12)\n",
            "Requirement already satisfied: tqdm>=4.43.0 in /usr/local/lib/python3.6/dist-packages (from pandas_profiling==2.7.0) (4.46.0)\n",
            "Requirement already satisfied: ipywidgets>=7.5.1 in /usr/local/lib/python3.6/dist-packages (from pandas_profiling==2.7.0) (7.5.1)\n",
            "Requirement already satisfied: phik>=0.9.10 in /usr/local/lib/python3.6/dist-packages (from pandas_profiling==2.7.0) (0.10.0)\n",
            "Requirement already satisfied: jinja2>=2.11.1 in /usr/local/lib/python3.6/dist-packages (from pandas_profiling==2.7.0) (2.11.2)\n",
            "Requirement already satisfied: numpy>=1.16.0 in /usr/local/lib/python3.6/dist-packages (from pandas_profiling==2.7.0) (1.18.4)\n",
            "Requirement already satisfied: matplotlib>=3.2.0 in /usr/local/lib/python3.6/dist-packages (from pandas_profiling==2.7.0) (3.2.1)\n",
            "Requirement already satisfied: confuse>=1.0.0 in /usr/local/lib/python3.6/dist-packages (from pandas_profiling==2.7.0) (1.1.0)\n",
            "Requirement already satisfied: seaborn in /usr/local/lib/python3.6/dist-packages (from missingno>=0.4.2->pandas_profiling==2.7.0) (0.10.1)\n",
            "Requirement already satisfied: attrs>=19.3.0 in /usr/local/lib/python3.6/dist-packages (from visions[type_image_path]>=0.4.1->pandas_profiling==2.7.0) (19.3.0)\n",
            "Requirement already satisfied: networkx>=2.4 in /usr/local/lib/python3.6/dist-packages (from visions[type_image_path]>=0.4.1->pandas_profiling==2.7.0) (2.4)\n",
            "Requirement already satisfied: imagehash; extra == \"type_image_path\" in /usr/local/lib/python3.6/dist-packages (from visions[type_image_path]>=0.4.1->pandas_profiling==2.7.0) (4.1.0)\n",
            "Requirement already satisfied: Pillow; extra == \"type_image_path\" in /usr/local/lib/python3.6/dist-packages (from visions[type_image_path]>=0.4.1->pandas_profiling==2.7.0) (7.0.0)\n",
            "Requirement already satisfied: chardet<4,>=3.0.2 in /usr/local/lib/python3.6/dist-packages (from requests>=2.23.0->pandas_profiling==2.7.0) (3.0.4)\n",
            "Requirement already satisfied: idna<3,>=2.5 in /usr/local/lib/python3.6/dist-packages (from requests>=2.23.0->pandas_profiling==2.7.0) (2.9)\n",
            "Requirement already satisfied: certifi>=2017.4.17 in /usr/local/lib/python3.6/dist-packages (from requests>=2.23.0->pandas_profiling==2.7.0) (2020.4.5.1)\n",
            "Requirement already satisfied: urllib3!=1.25.0,!=1.25.1,<1.26,>=1.21.1 in /usr/local/lib/python3.6/dist-packages (from requests>=2.23.0->pandas_profiling==2.7.0) (1.24.3)\n",
            "Requirement already satisfied: pytz>=2017.2 in /usr/local/lib/python3.6/dist-packages (from pandas!=1.0.0,!=1.0.1,!=1.0.2,>=0.25.3->pandas_profiling==2.7.0) (2018.9)\n",
            "Requirement already satisfied: python-dateutil>=2.6.1 in /usr/local/lib/python3.6/dist-packages (from pandas!=1.0.0,!=1.0.1,!=1.0.2,>=0.25.3->pandas_profiling==2.7.0) (2.8.1)\n",
            "Requirement already satisfied: nbformat>=4.2.0 in /usr/local/lib/python3.6/dist-packages (from ipywidgets>=7.5.1->pandas_profiling==2.7.0) (5.0.6)\n",
            "Requirement already satisfied: widgetsnbextension~=3.5.0 in /usr/local/lib/python3.6/dist-packages (from ipywidgets>=7.5.1->pandas_profiling==2.7.0) (3.5.1)\n",
            "Requirement already satisfied: traitlets>=4.3.1 in /usr/local/lib/python3.6/dist-packages (from ipywidgets>=7.5.1->pandas_profiling==2.7.0) (4.3.3)\n",
            "Requirement already satisfied: ipykernel>=4.5.1 in /usr/local/lib/python3.6/dist-packages (from ipywidgets>=7.5.1->pandas_profiling==2.7.0) (4.10.1)\n",
            "Requirement already satisfied: ipython>=4.0.0; python_version >= \"3.3\" in /usr/local/lib/python3.6/dist-packages (from ipywidgets>=7.5.1->pandas_profiling==2.7.0) (5.5.0)\n",
            "Requirement already satisfied: numba>=0.38.1 in /usr/local/lib/python3.6/dist-packages (from phik>=0.9.10->pandas_profiling==2.7.0) (0.48.0)\n",
            "Requirement already satisfied: MarkupSafe>=0.23 in /usr/local/lib/python3.6/dist-packages (from jinja2>=2.11.1->pandas_profiling==2.7.0) (1.1.1)\n",
            "Requirement already satisfied: pyparsing!=2.0.4,!=2.1.2,!=2.1.6,>=2.0.1 in /usr/local/lib/python3.6/dist-packages (from matplotlib>=3.2.0->pandas_profiling==2.7.0) (2.4.7)\n",
            "Requirement already satisfied: cycler>=0.10 in /usr/local/lib/python3.6/dist-packages (from matplotlib>=3.2.0->pandas_profiling==2.7.0) (0.10.0)\n",
            "Requirement already satisfied: kiwisolver>=1.0.1 in /usr/local/lib/python3.6/dist-packages (from matplotlib>=3.2.0->pandas_profiling==2.7.0) (1.2.0)\n",
            "Requirement already satisfied: pyyaml in /usr/local/lib/python3.6/dist-packages (from confuse>=1.0.0->pandas_profiling==2.7.0) (3.13)\n",
            "Requirement already satisfied: decorator>=4.3.0 in /usr/local/lib/python3.6/dist-packages (from networkx>=2.4->visions[type_image_path]>=0.4.1->pandas_profiling==2.7.0) (4.4.2)\n",
            "Requirement already satisfied: PyWavelets in /usr/local/lib/python3.6/dist-packages (from imagehash; extra == \"type_image_path\"->visions[type_image_path]>=0.4.1->pandas_profiling==2.7.0) (1.1.1)\n",
            "Requirement already satisfied: six in /usr/local/lib/python3.6/dist-packages (from imagehash; extra == \"type_image_path\"->visions[type_image_path]>=0.4.1->pandas_profiling==2.7.0) (1.12.0)\n",
            "Requirement already satisfied: jupyter-core in /usr/local/lib/python3.6/dist-packages (from nbformat>=4.2.0->ipywidgets>=7.5.1->pandas_profiling==2.7.0) (4.6.3)\n",
            "Requirement already satisfied: jsonschema!=2.5.0,>=2.4 in /usr/local/lib/python3.6/dist-packages (from nbformat>=4.2.0->ipywidgets>=7.5.1->pandas_profiling==2.7.0) (2.6.0)\n",
            "Requirement already satisfied: ipython-genutils in /usr/local/lib/python3.6/dist-packages (from nbformat>=4.2.0->ipywidgets>=7.5.1->pandas_profiling==2.7.0) (0.2.0)\n",
            "Requirement already satisfied: notebook>=4.4.1 in /usr/local/lib/python3.6/dist-packages (from widgetsnbextension~=3.5.0->ipywidgets>=7.5.1->pandas_profiling==2.7.0) (5.2.2)\n",
            "Requirement already satisfied: tornado>=4.0 in /usr/local/lib/python3.6/dist-packages (from ipykernel>=4.5.1->ipywidgets>=7.5.1->pandas_profiling==2.7.0) (4.5.3)\n",
            "Requirement already satisfied: jupyter-client in /usr/local/lib/python3.6/dist-packages (from ipykernel>=4.5.1->ipywidgets>=7.5.1->pandas_profiling==2.7.0) (5.3.4)\n",
            "Requirement already satisfied: pexpect; sys_platform != \"win32\" in /usr/local/lib/python3.6/dist-packages (from ipython>=4.0.0; python_version >= \"3.3\"->ipywidgets>=7.5.1->pandas_profiling==2.7.0) (4.8.0)\n",
            "Requirement already satisfied: simplegeneric>0.8 in /usr/local/lib/python3.6/dist-packages (from ipython>=4.0.0; python_version >= \"3.3\"->ipywidgets>=7.5.1->pandas_profiling==2.7.0) (0.8.1)\n",
            "Requirement already satisfied: pickleshare in /usr/local/lib/python3.6/dist-packages (from ipython>=4.0.0; python_version >= \"3.3\"->ipywidgets>=7.5.1->pandas_profiling==2.7.0) (0.7.5)\n",
            "Requirement already satisfied: pygments in /usr/local/lib/python3.6/dist-packages (from ipython>=4.0.0; python_version >= \"3.3\"->ipywidgets>=7.5.1->pandas_profiling==2.7.0) (2.1.3)\n",
            "Requirement already satisfied: prompt-toolkit<2.0.0,>=1.0.4 in /usr/local/lib/python3.6/dist-packages (from ipython>=4.0.0; python_version >= \"3.3\"->ipywidgets>=7.5.1->pandas_profiling==2.7.0) (1.0.18)\n",
            "Requirement already satisfied: setuptools>=18.5 in /usr/local/lib/python3.6/dist-packages (from ipython>=4.0.0; python_version >= \"3.3\"->ipywidgets>=7.5.1->pandas_profiling==2.7.0) (46.3.0)\n",
            "Requirement already satisfied: llvmlite<0.32.0,>=0.31.0dev0 in /usr/local/lib/python3.6/dist-packages (from numba>=0.38.1->phik>=0.9.10->pandas_profiling==2.7.0) (0.31.0)\n",
            "Requirement already satisfied: nbconvert in /usr/local/lib/python3.6/dist-packages (from notebook>=4.4.1->widgetsnbextension~=3.5.0->ipywidgets>=7.5.1->pandas_profiling==2.7.0) (5.6.1)\n",
            "Requirement already satisfied: terminado>=0.3.3; sys_platform != \"win32\" in /usr/local/lib/python3.6/dist-packages (from notebook>=4.4.1->widgetsnbextension~=3.5.0->ipywidgets>=7.5.1->pandas_profiling==2.7.0) (0.8.3)\n",
            "Requirement already satisfied: pyzmq>=13 in /usr/local/lib/python3.6/dist-packages (from jupyter-client->ipykernel>=4.5.1->ipywidgets>=7.5.1->pandas_profiling==2.7.0) (19.0.1)\n",
            "Requirement already satisfied: ptyprocess>=0.5 in /usr/local/lib/python3.6/dist-packages (from pexpect; sys_platform != \"win32\"->ipython>=4.0.0; python_version >= \"3.3\"->ipywidgets>=7.5.1->pandas_profiling==2.7.0) (0.6.0)\n",
            "Requirement already satisfied: wcwidth in /usr/local/lib/python3.6/dist-packages (from prompt-toolkit<2.0.0,>=1.0.4->ipython>=4.0.0; python_version >= \"3.3\"->ipywidgets>=7.5.1->pandas_profiling==2.7.0) (0.1.9)\n",
            "Requirement already satisfied: testpath in /usr/local/lib/python3.6/dist-packages (from nbconvert->notebook>=4.4.1->widgetsnbextension~=3.5.0->ipywidgets>=7.5.1->pandas_profiling==2.7.0) (0.4.4)\n",
            "Requirement already satisfied: pandocfilters>=1.4.1 in /usr/local/lib/python3.6/dist-packages (from nbconvert->notebook>=4.4.1->widgetsnbextension~=3.5.0->ipywidgets>=7.5.1->pandas_profiling==2.7.0) (1.4.2)\n",
            "Requirement already satisfied: mistune<2,>=0.8.1 in /usr/local/lib/python3.6/dist-packages (from nbconvert->notebook>=4.4.1->widgetsnbextension~=3.5.0->ipywidgets>=7.5.1->pandas_profiling==2.7.0) (0.8.4)\n",
            "Requirement already satisfied: defusedxml in /usr/local/lib/python3.6/dist-packages (from nbconvert->notebook>=4.4.1->widgetsnbextension~=3.5.0->ipywidgets>=7.5.1->pandas_profiling==2.7.0) (0.6.0)\n",
            "Requirement already satisfied: entrypoints>=0.2.2 in /usr/local/lib/python3.6/dist-packages (from nbconvert->notebook>=4.4.1->widgetsnbextension~=3.5.0->ipywidgets>=7.5.1->pandas_profiling==2.7.0) (0.3)\n",
            "Requirement already satisfied: bleach in /usr/local/lib/python3.6/dist-packages (from nbconvert->notebook>=4.4.1->widgetsnbextension~=3.5.0->ipywidgets>=7.5.1->pandas_profiling==2.7.0) (3.1.5)\n",
            "Requirement already satisfied: webencodings in /usr/local/lib/python3.6/dist-packages (from bleach->nbconvert->notebook>=4.4.1->widgetsnbextension~=3.5.0->ipywidgets>=7.5.1->pandas_profiling==2.7.0) (0.5.1)\n",
            "Requirement already satisfied: packaging in /usr/local/lib/python3.6/dist-packages (from bleach->nbconvert->notebook>=4.4.1->widgetsnbextension~=3.5.0->ipywidgets>=7.5.1->pandas_profiling==2.7.0) (20.4)\n"
          ],
          "name": "stdout"
        }
      ]
    },
    {
      "cell_type": "code",
      "metadata": {
        "_cell_guid": "b1076dfc-b9ad-4769-8c92-a6c4dae69d19",
        "_uuid": "8f2839f25d086af736a60e9eeb907d3b93b6e0e5",
        "id": "-hNiqi2IeM9C",
        "colab_type": "code",
        "colab": {
          "base_uri": "https://localhost:8080/",
          "height": 51
        },
        "outputId": "526f680e-1a95-4548-cf4c-e5b20ec9f4ae"
      },
      "source": [
        "import numpy as np \n",
        "import pandas as pd\n",
        "from sklearn.model_selection import train_test_split \n",
        "from sklearn.linear_model import LogisticRegression \n",
        "from google.colab import files\n",
        "import matplotlib.pyplot as plt\n",
        "from sklearn.preprocessing import MinMaxScaler\n",
        "from sklearn.feature_selection import SelectKBest\n",
        "from sklearn.ensemble import RandomForestClassifier, ExtraTreesClassifier, AdaBoostClassifier, GradientBoostingClassifier\n",
        "from sklearn.tree import DecisionTreeClassifier\n",
        "from sklearn.neighbors import KNeighborsClassifier\n",
        "from sklearn.svm import SVC\n",
        "from sklearn.naive_bayes import GaussianNB\n",
        "from sklearn.model_selection import GridSearchCV\n",
        "from sklearn.ensemble import VotingClassifier\n",
        "import lightgbm\n",
        "from sklearn.model_selection import cross_val_score\n",
        "import itertools\n",
        "import pandas_profiling\n",
        "from pandas_profiling import ProfileReport\n",
        "\n",
        "%matplotlib inline\n",
        "\n",
        "\n"
      ],
      "execution_count": 2,
      "outputs": [
        {
          "output_type": "stream",
          "text": [
            "/usr/local/lib/python3.6/dist-packages/statsmodels/tools/_testing.py:19: FutureWarning: pandas.util.testing is deprecated. Use the functions in the public API at pandas.testing instead.\n",
            "  import pandas.util.testing as tm\n"
          ],
          "name": "stderr"
        }
      ]
    },
    {
      "cell_type": "code",
      "metadata": {
        "id": "EW_2HlIvD1Y9",
        "colab_type": "code",
        "outputId": "1978ed4c-e5a9-41fa-f843-4073229c8319",
        "colab": {
          "base_uri": "https://localhost:8080/",
          "height": 227
        }
      },
      "source": [
        "rawdata = pd.read_csv(\"titanic-publicleaderboard.csv\")\n",
        "rawdata.index = pd.to_datetime(rawdata.SubmissionDate).dt.normalize()\n",
        "rawdata.head()"
      ],
      "execution_count": 3,
      "outputs": [
        {
          "output_type": "execute_result",
          "data": {
            "text/html": [
              "<div>\n",
              "<style scoped>\n",
              "    .dataframe tbody tr th:only-of-type {\n",
              "        vertical-align: middle;\n",
              "    }\n",
              "\n",
              "    .dataframe tbody tr th {\n",
              "        vertical-align: top;\n",
              "    }\n",
              "\n",
              "    .dataframe thead th {\n",
              "        text-align: right;\n",
              "    }\n",
              "</style>\n",
              "<table border=\"1\" class=\"dataframe\">\n",
              "  <thead>\n",
              "    <tr style=\"text-align: right;\">\n",
              "      <th></th>\n",
              "      <th>TeamId</th>\n",
              "      <th>TeamName</th>\n",
              "      <th>SubmissionDate</th>\n",
              "      <th>Score</th>\n",
              "    </tr>\n",
              "    <tr>\n",
              "      <th>SubmissionDate</th>\n",
              "      <th></th>\n",
              "      <th></th>\n",
              "      <th></th>\n",
              "      <th></th>\n",
              "    </tr>\n",
              "  </thead>\n",
              "  <tbody>\n",
              "    <tr>\n",
              "      <th>2012-10-18</th>\n",
              "      <td>26011</td>\n",
              "      <td>MoltenLava</td>\n",
              "      <td>2012-10-18 21:34:53</td>\n",
              "      <td>0.77511</td>\n",
              "    </tr>\n",
              "    <tr>\n",
              "      <th>2012-12-24</th>\n",
              "      <td>26011</td>\n",
              "      <td>MoltenLava</td>\n",
              "      <td>2012-12-24 02:18:04</td>\n",
              "      <td>0.77990</td>\n",
              "    </tr>\n",
              "    <tr>\n",
              "      <th>2012-12-28</th>\n",
              "      <td>31750</td>\n",
              "      <td>statIsFun</td>\n",
              "      <td>2012-12-28 06:31:01</td>\n",
              "      <td>0.76076</td>\n",
              "    </tr>\n",
              "    <tr>\n",
              "      <th>2012-12-28</th>\n",
              "      <td>31782</td>\n",
              "      <td>98074</td>\n",
              "      <td>2012-12-28 20:39:54</td>\n",
              "      <td>0.00000</td>\n",
              "    </tr>\n",
              "    <tr>\n",
              "      <th>2012-12-30</th>\n",
              "      <td>26011</td>\n",
              "      <td>MoltenLava</td>\n",
              "      <td>2012-12-30 00:06:06</td>\n",
              "      <td>0.78468</td>\n",
              "    </tr>\n",
              "  </tbody>\n",
              "</table>\n",
              "</div>"
            ],
            "text/plain": [
              "                TeamId    TeamName       SubmissionDate    Score\n",
              "SubmissionDate                                                  \n",
              "2012-10-18       26011  MoltenLava  2012-10-18 21:34:53  0.77511\n",
              "2012-12-24       26011  MoltenLava  2012-12-24 02:18:04  0.77990\n",
              "2012-12-28       31750   statIsFun  2012-12-28 06:31:01  0.76076\n",
              "2012-12-28       31782       98074  2012-12-28 20:39:54  0.00000\n",
              "2012-12-30       26011  MoltenLava  2012-12-30 00:06:06  0.78468"
            ]
          },
          "metadata": {
            "tags": []
          },
          "execution_count": 3
        }
      ]
    },
    {
      "cell_type": "markdown",
      "metadata": {
        "id": "ulmhe1UfkSyO",
        "colab_type": "text"
      },
      "source": [
        "# New Section"
      ]
    },
    {
      "cell_type": "code",
      "metadata": {
        "id": "-4gujVS2KpeG",
        "colab_type": "code",
        "outputId": "e9f308d6-ca42-4344-81ed-ccf5faa341a6",
        "colab": {
          "base_uri": "https://localhost:8080/",
          "height": 122
        }
      },
      "source": [
        "from google.colab import drive\n",
        "drive.mount('/content/drive')"
      ],
      "execution_count": 4,
      "outputs": [
        {
          "output_type": "stream",
          "text": [
            "Go to this URL in a browser: https://accounts.google.com/o/oauth2/auth?client_id=947318989803-6bn6qk8qdgf4n4g3pfee6491hc0brc4i.apps.googleusercontent.com&redirect_uri=urn%3aietf%3awg%3aoauth%3a2.0%3aoob&response_type=code&scope=email%20https%3a%2f%2fwww.googleapis.com%2fauth%2fdocs.test%20https%3a%2f%2fwww.googleapis.com%2fauth%2fdrive%20https%3a%2f%2fwww.googleapis.com%2fauth%2fdrive.photos.readonly%20https%3a%2f%2fwww.googleapis.com%2fauth%2fpeopleapi.readonly\n",
            "\n",
            "Enter your authorization code:\n",
            "··········\n",
            "Mounted at /content/drive\n"
          ],
          "name": "stdout"
        }
      ]
    },
    {
      "cell_type": "code",
      "metadata": {
        "id": "_-67rJ-1D1cK",
        "colab_type": "code",
        "outputId": "c240bb6a-ec5d-43c5-beb2-ac452f136240",
        "colab": {
          "base_uri": "https://localhost:8080/",
          "height": 419
        }
      },
      "source": [
        "plt.style.use('fivethirtyeight')\n",
        "fig,ax = plt.subplots(figsize=(10,6))\n",
        "rawdata.Score.plot(kind=\"hist\",ax=ax)\n",
        "plt.title(\"Public LeaderBoard in Kaggle Titanic Competition\")\n",
        "plt.show()"
      ],
      "execution_count": 5,
      "outputs": [
        {
          "output_type": "display_data",
          "data": {
            "image/png": "[encoded data removed]",
            "text/plain": [
              "<Figure size 720x432 with 1 Axes>"
            ]
          },
          "metadata": {
            "tags": []
          }
        }
      ]
    },
    {
      "cell_type": "code",
      "metadata": {
        "id": "bfN3CfjbD1ft",
        "colab_type": "code",
        "outputId": "48f2f662-73e7-4a67-84ac-2698cc0f2bbc",
        "colab": {
          "base_uri": "https://localhost:8080/",
          "height": 493
        }
      },
      "source": [
        "fig,ax = plt.subplots(figsize=(12,8))\n",
        "rawdata.groupby(by=rawdata.index)[\"Score\"].max().plot(ax=ax)\n",
        "plt.ylabel(\"Max Accuracy Score by Date\")\n",
        "plt.title(\"Public LeaderBoard in Kaggle Titanic Competition\")\n",
        "plt.show()"
      ],
      "execution_count": 6,
      "outputs": [
        {
          "output_type": "display_data",
          "data": {
            "image/png": "[encoded data removed]",
            "text/plain": [
              "<Figure size 864x576 with 1 Axes>"
            ]
          },
          "metadata": {
            "tags": []
          }
        }
      ]
    },
    {
      "cell_type": "code",
      "metadata": {
        "_cell_guid": "79c7e3d0-c299-4dcb-8224-4455121ee9b0",
        "_uuid": "d629ff2d2480ee46fbb7e2d37f6b5fab8052498a",
        "id": "cgZWR30jeM9S",
        "colab_type": "code",
        "colab": {}
      },
      "source": [
        "# Lendo os datasets de Treino e de Teste.\n",
        "train_df = pd.read_csv(\"train.csv\")\n",
        "test_df = pd.read_csv(\"test.csv\")\n",
        "\n",
        "# Realizando uma copia do Dataset de Teste.\n",
        "submission = test_df.copy()\n",
        "\n",
        "# A função abaixo, concatena os dois datasets que foram carregados acima.\n",
        "all_df = pd.concat([train_df, test_df], sort=False)\n"
      ],
      "execution_count": 0,
      "outputs": []
    },
    {
      "cell_type": "code",
      "metadata": {
        "id": "4Bi6yvsnEIJ2",
        "colab_type": "code",
        "outputId": "51e8757f-aca5-43bd-d7ce-05ecacaf1fb3",
        "colab": {
          "base_uri": "https://localhost:8080/",
          "height": 197
        }
      },
      "source": [
        "train_df.head()"
      ],
      "execution_count": 8,
      "outputs": [
        {
          "output_type": "execute_result",
          "data": {
            "text/html": [
              "<div>\n",
              "<style scoped>\n",
              "    .dataframe tbody tr th:only-of-type {\n",
              "        vertical-align: middle;\n",
              "    }\n",
              "\n",
              "    .dataframe tbody tr th {\n",
              "        vertical-align: top;\n",
              "    }\n",
              "\n",
              "    .dataframe thead th {\n",
              "        text-align: right;\n",
              "    }\n",
              "</style>\n",
              "<table border=\"1\" class=\"dataframe\">\n",
              "  <thead>\n",
              "    <tr style=\"text-align: right;\">\n",
              "      <th></th>\n",
              "      <th>PassengerId</th>\n",
              "      <th>Survived</th>\n",
              "      <th>Pclass</th>\n",
              "      <th>Name</th>\n",
              "      <th>Sex</th>\n",
              "      <th>Age</th>\n",
              "      <th>SibSp</th>\n",
              "      <th>Parch</th>\n",
              "      <th>Ticket</th>\n",
              "      <th>Fare</th>\n",
              "      <th>Cabin</th>\n",
              "      <th>Embarked</th>\n",
              "    </tr>\n",
              "  </thead>\n",
              "  <tbody>\n",
              "    <tr>\n",
              "      <th>0</th>\n",
              "      <td>1</td>\n",
              "      <td>0</td>\n",
              "      <td>3</td>\n",
              "      <td>Braund, Mr. Owen Harris</td>\n",
              "      <td>male</td>\n",
              "      <td>22.0</td>\n",
              "      <td>1</td>\n",
              "      <td>0</td>\n",
              "      <td>A/5 21171</td>\n",
              "      <td>7.2500</td>\n",
              "      <td>NaN</td>\n",
              "      <td>S</td>\n",
              "    </tr>\n",
              "    <tr>\n",
              "      <th>1</th>\n",
              "      <td>2</td>\n",
              "      <td>1</td>\n",
              "      <td>1</td>\n",
              "      <td>Cumings, Mrs. John Bradley (Florence Briggs Th...</td>\n",
              "      <td>female</td>\n",
              "      <td>38.0</td>\n",
              "      <td>1</td>\n",
              "      <td>0</td>\n",
              "      <td>PC 17599</td>\n",
              "      <td>71.2833</td>\n",
              "      <td>C85</td>\n",
              "      <td>C</td>\n",
              "    </tr>\n",
              "    <tr>\n",
              "      <th>2</th>\n",
              "      <td>3</td>\n",
              "      <td>1</td>\n",
              "      <td>3</td>\n",
              "      <td>Heikkinen, Miss. Laina</td>\n",
              "      <td>female</td>\n",
              "      <td>26.0</td>\n",
              "      <td>0</td>\n",
              "      <td>0</td>\n",
              "      <td>STON/O2. 3101282</td>\n",
              "      <td>7.9250</td>\n",
              "      <td>NaN</td>\n",
              "      <td>S</td>\n",
              "    </tr>\n",
              "    <tr>\n",
              "      <th>3</th>\n",
              "      <td>4</td>\n",
              "      <td>1</td>\n",
              "      <td>1</td>\n",
              "      <td>Futrelle, Mrs. Jacques Heath (Lily May Peel)</td>\n",
              "      <td>female</td>\n",
              "      <td>35.0</td>\n",
              "      <td>1</td>\n",
              "      <td>0</td>\n",
              "      <td>113803</td>\n",
              "      <td>53.1000</td>\n",
              "      <td>C123</td>\n",
              "      <td>S</td>\n",
              "    </tr>\n",
              "    <tr>\n",
              "      <th>4</th>\n",
              "      <td>5</td>\n",
              "      <td>0</td>\n",
              "      <td>3</td>\n",
              "      <td>Allen, Mr. William Henry</td>\n",
              "      <td>male</td>\n",
              "      <td>35.0</td>\n",
              "      <td>0</td>\n",
              "      <td>0</td>\n",
              "      <td>373450</td>\n",
              "      <td>8.0500</td>\n",
              "      <td>NaN</td>\n",
              "      <td>S</td>\n",
              "    </tr>\n",
              "  </tbody>\n",
              "</table>\n",
              "</div>"
            ],
            "text/plain": [
              "   PassengerId  Survived  Pclass  ...     Fare Cabin  Embarked\n",
              "0            1         0       3  ...   7.2500   NaN         S\n",
              "1            2         1       1  ...  71.2833   C85         C\n",
              "2            3         1       3  ...   7.9250   NaN         S\n",
              "3            4         1       1  ...  53.1000  C123         S\n",
              "4            5         0       3  ...   8.0500   NaN         S\n",
              "\n",
              "[5 rows x 12 columns]"
            ]
          },
          "metadata": {
            "tags": []
          },
          "execution_count": 8
        }
      ]
    },
    {
      "cell_type": "code",
      "metadata": {
        "id": "uIJTKYafEOct",
        "colab_type": "code",
        "outputId": "5db7d2e8-a556-4899-db39-d1b682e9dfc1",
        "colab": {
          "base_uri": "https://localhost:8080/",
          "height": 197
        }
      },
      "source": [
        "test_df.head()"
      ],
      "execution_count": 9,
      "outputs": [
        {
          "output_type": "execute_result",
          "data": {
            "text/html": [
              "<div>\n",
              "<style scoped>\n",
              "    .dataframe tbody tr th:only-of-type {\n",
              "        vertical-align: middle;\n",
              "    }\n",
              "\n",
              "    .dataframe tbody tr th {\n",
              "        vertical-align: top;\n",
              "    }\n",
              "\n",
              "    .dataframe thead th {\n",
              "        text-align: right;\n",
              "    }\n",
              "</style>\n",
              "<table border=\"1\" class=\"dataframe\">\n",
              "  <thead>\n",
              "    <tr style=\"text-align: right;\">\n",
              "      <th></th>\n",
              "      <th>PassengerId</th>\n",
              "      <th>Pclass</th>\n",
              "      <th>Name</th>\n",
              "      <th>Sex</th>\n",
              "      <th>Age</th>\n",
              "      <th>SibSp</th>\n",
              "      <th>Parch</th>\n",
              "      <th>Ticket</th>\n",
              "      <th>Fare</th>\n",
              "      <th>Cabin</th>\n",
              "      <th>Embarked</th>\n",
              "    </tr>\n",
              "  </thead>\n",
              "  <tbody>\n",
              "    <tr>\n",
              "      <th>0</th>\n",
              "      <td>892</td>\n",
              "      <td>3</td>\n",
              "      <td>Kelly, Mr. James</td>\n",
              "      <td>male</td>\n",
              "      <td>34.5</td>\n",
              "      <td>0</td>\n",
              "      <td>0</td>\n",
              "      <td>330911</td>\n",
              "      <td>7.8292</td>\n",
              "      <td>NaN</td>\n",
              "      <td>Q</td>\n",
              "    </tr>\n",
              "    <tr>\n",
              "      <th>1</th>\n",
              "      <td>893</td>\n",
              "      <td>3</td>\n",
              "      <td>Wilkes, Mrs. James (Ellen Needs)</td>\n",
              "      <td>female</td>\n",
              "      <td>47.0</td>\n",
              "      <td>1</td>\n",
              "      <td>0</td>\n",
              "      <td>363272</td>\n",
              "      <td>7.0000</td>\n",
              "      <td>NaN</td>\n",
              "      <td>S</td>\n",
              "    </tr>\n",
              "    <tr>\n",
              "      <th>2</th>\n",
              "      <td>894</td>\n",
              "      <td>2</td>\n",
              "      <td>Myles, Mr. Thomas Francis</td>\n",
              "      <td>male</td>\n",
              "      <td>62.0</td>\n",
              "      <td>0</td>\n",
              "      <td>0</td>\n",
              "      <td>240276</td>\n",
              "      <td>9.6875</td>\n",
              "      <td>NaN</td>\n",
              "      <td>Q</td>\n",
              "    </tr>\n",
              "    <tr>\n",
              "      <th>3</th>\n",
              "      <td>895</td>\n",
              "      <td>3</td>\n",
              "      <td>Wirz, Mr. Albert</td>\n",
              "      <td>male</td>\n",
              "      <td>27.0</td>\n",
              "      <td>0</td>\n",
              "      <td>0</td>\n",
              "      <td>315154</td>\n",
              "      <td>8.6625</td>\n",
              "      <td>NaN</td>\n",
              "      <td>S</td>\n",
              "    </tr>\n",
              "    <tr>\n",
              "      <th>4</th>\n",
              "      <td>896</td>\n",
              "      <td>3</td>\n",
              "      <td>Hirvonen, Mrs. Alexander (Helga E Lindqvist)</td>\n",
              "      <td>female</td>\n",
              "      <td>22.0</td>\n",
              "      <td>1</td>\n",
              "      <td>1</td>\n",
              "      <td>3101298</td>\n",
              "      <td>12.2875</td>\n",
              "      <td>NaN</td>\n",
              "      <td>S</td>\n",
              "    </tr>\n",
              "  </tbody>\n",
              "</table>\n",
              "</div>"
            ],
            "text/plain": [
              "   PassengerId  Pclass  ... Cabin Embarked\n",
              "0          892       3  ...   NaN        Q\n",
              "1          893       3  ...   NaN        S\n",
              "2          894       2  ...   NaN        Q\n",
              "3          895       3  ...   NaN        S\n",
              "4          896       3  ...   NaN        S\n",
              "\n",
              "[5 rows x 11 columns]"
            ]
          },
          "metadata": {
            "tags": []
          },
          "execution_count": 9
        }
      ]
    },
    {
      "cell_type": "code",
      "metadata": {
        "id": "Qp-Lf648ER3I",
        "colab_type": "code",
        "outputId": "9ed8fada-0efb-4aa7-e404-e9a45f889f87",
        "colab": {
          "base_uri": "https://localhost:8080/",
          "height": 341
        }
      },
      "source": [
        "train_df.info()"
      ],
      "execution_count": 10,
      "outputs": [
        {
          "output_type": "stream",
          "text": [
            "<class 'pandas.core.frame.DataFrame'>\n",
            "RangeIndex: 891 entries, 0 to 890\n",
            "Data columns (total 12 columns):\n",
            " #   Column       Non-Null Count  Dtype  \n",
            "---  ------       --------------  -----  \n",
            " 0   PassengerId  891 non-null    int64  \n",
            " 1   Survived     891 non-null    int64  \n",
            " 2   Pclass       891 non-null    int64  \n",
            " 3   Name         891 non-null    object \n",
            " 4   Sex          891 non-null    object \n",
            " 5   Age          714 non-null    float64\n",
            " 6   SibSp        891 non-null    int64  \n",
            " 7   Parch        891 non-null    int64  \n",
            " 8   Ticket       891 non-null    object \n",
            " 9   Fare         891 non-null    float64\n",
            " 10  Cabin        204 non-null    object \n",
            " 11  Embarked     889 non-null    object \n",
            "dtypes: float64(2), int64(5), object(5)\n",
            "memory usage: 83.7+ KB\n"
          ],
          "name": "stdout"
        }
      ]
    },
    {
      "cell_type": "code",
      "metadata": {
        "id": "HhlAcb1X5Ntz",
        "colab_type": "code",
        "outputId": "5301e91a-278a-44a3-dfd1-871fc50c0867",
        "colab": {
          "base_uri": "https://localhost:8080/",
          "height": 324
        }
      },
      "source": [
        "test_df.info()"
      ],
      "execution_count": 11,
      "outputs": [
        {
          "output_type": "stream",
          "text": [
            "<class 'pandas.core.frame.DataFrame'>\n",
            "RangeIndex: 418 entries, 0 to 417\n",
            "Data columns (total 11 columns):\n",
            " #   Column       Non-Null Count  Dtype  \n",
            "---  ------       --------------  -----  \n",
            " 0   PassengerId  418 non-null    int64  \n",
            " 1   Pclass       418 non-null    int64  \n",
            " 2   Name         418 non-null    object \n",
            " 3   Sex          418 non-null    object \n",
            " 4   Age          332 non-null    float64\n",
            " 5   SibSp        418 non-null    int64  \n",
            " 6   Parch        418 non-null    int64  \n",
            " 7   Ticket       418 non-null    object \n",
            " 8   Fare         417 non-null    float64\n",
            " 9   Cabin        91 non-null     object \n",
            " 10  Embarked     418 non-null    object \n",
            "dtypes: float64(2), int64(4), object(5)\n",
            "memory usage: 36.0+ KB\n"
          ],
          "name": "stdout"
        }
      ]
    },
    {
      "cell_type": "code",
      "metadata": {
        "id": "GvHrvz5cEXeY",
        "colab_type": "code",
        "outputId": "9de66c16-3d69-413d-8ec5-8b23678c9bfa",
        "colab": {
          "base_uri": "https://localhost:8080/",
          "height": 68
        }
      },
      "source": [
        "train_df.Survived.value_counts()"
      ],
      "execution_count": 12,
      "outputs": [
        {
          "output_type": "execute_result",
          "data": {
            "text/plain": [
              "0    549\n",
              "1    342\n",
              "Name: Survived, dtype: int64"
            ]
          },
          "metadata": {
            "tags": []
          },
          "execution_count": 12
        }
      ]
    },
    {
      "cell_type": "code",
      "metadata": {
        "id": "O3mDX848eM9b",
        "colab_type": "code",
        "outputId": "528136a4-5c78-4767-f66e-b44f12c9bd50",
        "colab": {
          "base_uri": "https://localhost:8080/",
          "height": 802
        }
      },
      "source": [
        "\n",
        "\n",
        "# Defina a função para inspecionar os quadros de dados. Imprime as primeiras linhas, determina o tamanho / formato do quadro de dados,\n",
        "# mostra estatísticas descritivas, mostra tipos de dados, mostra dados ausentes ou incompletos, verifique se há dados duplicados.\n",
        "\n",
        "def inspect_df(df):\n",
        "    print('Header:')\n",
        "    print('{}'.format(df.head()))\n",
        "    print()\n",
        "    print('Shape: {}'.format(df.shape))\n",
        "    print()\n",
        "    print('Statistics:')\n",
        "    print('{}'.format(df.describe()))\n",
        "    print()\n",
        "    print('Info:')\n",
        "    print('{}'.format(df.info()))\n",
        "    \n",
        "# função para visualizar as chamadas\n",
        "\n",
        "inspect_df(all_df)"
      ],
      "execution_count": 13,
      "outputs": [
        {
          "output_type": "stream",
          "text": [
            "Header:\n",
            "   PassengerId  Survived  Pclass  ...     Fare Cabin  Embarked\n",
            "0            1       0.0       3  ...   7.2500   NaN         S\n",
            "1            2       1.0       1  ...  71.2833   C85         C\n",
            "2            3       1.0       3  ...   7.9250   NaN         S\n",
            "3            4       1.0       1  ...  53.1000  C123         S\n",
            "4            5       0.0       3  ...   8.0500   NaN         S\n",
            "\n",
            "[5 rows x 12 columns]\n",
            "\n",
            "Shape: (1309, 12)\n",
            "\n",
            "Statistics:\n",
            "       PassengerId    Survived  ...        Parch         Fare\n",
            "count  1309.000000  891.000000  ...  1309.000000  1308.000000\n",
            "mean    655.000000    0.383838  ...     0.385027    33.295479\n",
            "std     378.020061    0.486592  ...     0.865560    51.758668\n",
            "min       1.000000    0.000000  ...     0.000000     0.000000\n",
            "25%     328.000000    0.000000  ...     0.000000     7.895800\n",
            "50%     655.000000    0.000000  ...     0.000000    14.454200\n",
            "75%     982.000000    1.000000  ...     0.000000    31.275000\n",
            "max    1309.000000    1.000000  ...     9.000000   512.329200\n",
            "\n",
            "[8 rows x 7 columns]\n",
            "\n",
            "Info:\n",
            "<class 'pandas.core.frame.DataFrame'>\n",
            "Int64Index: 1309 entries, 0 to 417\n",
            "Data columns (total 12 columns):\n",
            " #   Column       Non-Null Count  Dtype  \n",
            "---  ------       --------------  -----  \n",
            " 0   PassengerId  1309 non-null   int64  \n",
            " 1   Survived     891 non-null    float64\n",
            " 2   Pclass       1309 non-null   int64  \n",
            " 3   Name         1309 non-null   object \n",
            " 4   Sex          1309 non-null   object \n",
            " 5   Age          1046 non-null   float64\n",
            " 6   SibSp        1309 non-null   int64  \n",
            " 7   Parch        1309 non-null   int64  \n",
            " 8   Ticket       1309 non-null   object \n",
            " 9   Fare         1308 non-null   float64\n",
            " 10  Cabin        295 non-null    object \n",
            " 11  Embarked     1307 non-null   object \n",
            "dtypes: float64(3), int64(4), object(5)\n",
            "memory usage: 132.9+ KB\n",
            "None\n"
          ],
          "name": "stdout"
        }
      ]
    },
    {
      "cell_type": "code",
      "metadata": {
        "id": "bKVyb5QpeM9h",
        "colab_type": "code",
        "outputId": "0146e024-0c1b-48b9-8e1b-a0816947688e",
        "colab": {
          "base_uri": "https://localhost:8080/",
          "height": 85
        }
      },
      "source": [
        "# veja as proporções de passageiros por Pclass\n",
        "all_df.Pclass.value_counts(normalize=True, sort=False)"
      ],
      "execution_count": 14,
      "outputs": [
        {
          "output_type": "execute_result",
          "data": {
            "text/plain": [
              "1    0.246753\n",
              "2    0.211612\n",
              "3    0.541635\n",
              "Name: Pclass, dtype: float64"
            ]
          },
          "metadata": {
            "tags": []
          },
          "execution_count": 14
        }
      ]
    },
    {
      "cell_type": "code",
      "metadata": {
        "id": "ELnD8VoveM9r",
        "colab_type": "code",
        "outputId": "2476aa66-2b54-4094-c597-6c3c43ffe20e",
        "colab": {
          "base_uri": "https://localhost:8080/",
          "height": 68
        }
      },
      "source": [
        "# veja as proporções de passageiros por Sex\n",
        "\n",
        "all_df.Sex.value_counts(normalize=True)"
      ],
      "execution_count": 15,
      "outputs": [
        {
          "output_type": "execute_result",
          "data": {
            "text/plain": [
              "male      0.644003\n",
              "female    0.355997\n",
              "Name: Sex, dtype: float64"
            ]
          },
          "metadata": {
            "tags": []
          },
          "execution_count": 15
        }
      ]
    },
    {
      "cell_type": "code",
      "metadata": {
        "id": "MZdsiZnneM90",
        "colab_type": "code",
        "outputId": "7703ef7a-ccfb-4d78-cccc-58481c51d7f0",
        "colab": {
          "base_uri": "https://localhost:8080/",
          "height": 107
        }
      },
      "source": [
        "\n",
        "# inspeciona valores nulos para Embarked\n",
        "\n",
        "all_df[all_df.Embarked.isnull()]"
      ],
      "execution_count": 16,
      "outputs": [
        {
          "output_type": "execute_result",
          "data": {
            "text/html": [
              "<div>\n",
              "<style scoped>\n",
              "    .dataframe tbody tr th:only-of-type {\n",
              "        vertical-align: middle;\n",
              "    }\n",
              "\n",
              "    .dataframe tbody tr th {\n",
              "        vertical-align: top;\n",
              "    }\n",
              "\n",
              "    .dataframe thead th {\n",
              "        text-align: right;\n",
              "    }\n",
              "</style>\n",
              "<table border=\"1\" class=\"dataframe\">\n",
              "  <thead>\n",
              "    <tr style=\"text-align: right;\">\n",
              "      <th></th>\n",
              "      <th>PassengerId</th>\n",
              "      <th>Survived</th>\n",
              "      <th>Pclass</th>\n",
              "      <th>Name</th>\n",
              "      <th>Sex</th>\n",
              "      <th>Age</th>\n",
              "      <th>SibSp</th>\n",
              "      <th>Parch</th>\n",
              "      <th>Ticket</th>\n",
              "      <th>Fare</th>\n",
              "      <th>Cabin</th>\n",
              "      <th>Embarked</th>\n",
              "    </tr>\n",
              "  </thead>\n",
              "  <tbody>\n",
              "    <tr>\n",
              "      <th>61</th>\n",
              "      <td>62</td>\n",
              "      <td>1.0</td>\n",
              "      <td>1</td>\n",
              "      <td>Icard, Miss. Amelie</td>\n",
              "      <td>female</td>\n",
              "      <td>38.0</td>\n",
              "      <td>0</td>\n",
              "      <td>0</td>\n",
              "      <td>113572</td>\n",
              "      <td>80.0</td>\n",
              "      <td>B28</td>\n",
              "      <td>NaN</td>\n",
              "    </tr>\n",
              "    <tr>\n",
              "      <th>829</th>\n",
              "      <td>830</td>\n",
              "      <td>1.0</td>\n",
              "      <td>1</td>\n",
              "      <td>Stone, Mrs. George Nelson (Martha Evelyn)</td>\n",
              "      <td>female</td>\n",
              "      <td>62.0</td>\n",
              "      <td>0</td>\n",
              "      <td>0</td>\n",
              "      <td>113572</td>\n",
              "      <td>80.0</td>\n",
              "      <td>B28</td>\n",
              "      <td>NaN</td>\n",
              "    </tr>\n",
              "  </tbody>\n",
              "</table>\n",
              "</div>"
            ],
            "text/plain": [
              "     PassengerId  Survived  Pclass  ...  Fare Cabin  Embarked\n",
              "61            62       1.0       1  ...  80.0   B28       NaN\n",
              "829          830       1.0       1  ...  80.0   B28       NaN\n",
              "\n",
              "[2 rows x 12 columns]"
            ]
          },
          "metadata": {
            "tags": []
          },
          "execution_count": 16
        }
      ]
    },
    {
      "cell_type": "markdown",
      "metadata": {
        "id": "tBd7qrJmeM99",
        "colab_type": "text"
      },
      "source": [
        "Looked up Mrs. Stone and Miss Icard online, they boarded in Southampton."
      ]
    },
    {
      "cell_type": "code",
      "metadata": {
        "id": "gs88AMZAeM-A",
        "colab_type": "code",
        "colab": {}
      },
      "source": [
        "# Preenchendo os dados faltantes de embarked\n",
        "all_df.loc[[61, 829], ['Embarked']] = 'S'"
      ],
      "execution_count": 0,
      "outputs": []
    },
    {
      "cell_type": "code",
      "metadata": {
        "id": "Ax9cguA4eM-H",
        "colab_type": "code",
        "outputId": "8af7218a-766f-4d74-90dc-c359add0c3b8",
        "colab": {
          "base_uri": "https://localhost:8080/",
          "height": 348
        }
      },
      "source": [
        "# plot histogram para Ages\n",
        "plt.hist(data = all_df, x = 'Age', bins = 40);"
      ],
      "execution_count": 18,
      "outputs": [
        {
          "output_type": "stream",
          "text": [
            "/usr/local/lib/python3.6/dist-packages/numpy/lib/histograms.py:839: RuntimeWarning: invalid value encountered in greater_equal\n",
            "  keep = (tmp_a >= first_edge)\n",
            "/usr/local/lib/python3.6/dist-packages/numpy/lib/histograms.py:840: RuntimeWarning: invalid value encountered in less_equal\n",
            "  keep &= (tmp_a <= last_edge)\n"
          ],
          "name": "stderr"
        },
        {
          "output_type": "display_data",
          "data": {
            "image/png": "[encoded data removed]",
            "text/plain": [
              "<Figure size 432x288 with 1 Axes>"
            ]
          },
          "metadata": {
            "tags": []
          }
        }
      ]
    },
    {
      "cell_type": "code",
      "metadata": {
        "id": "XM_blvireM-U",
        "colab_type": "code",
        "outputId": "9ecad4de-328b-4e77-c564-3e45fbfc9026",
        "colab": {
          "base_uri": "https://localhost:8080/",
          "height": 348
        }
      },
      "source": [
        "# plot histograma para Fare\n",
        "plt.hist(data = all_df, x = 'Fare', bins = 40);"
      ],
      "execution_count": 19,
      "outputs": [
        {
          "output_type": "stream",
          "text": [
            "/usr/local/lib/python3.6/dist-packages/numpy/lib/histograms.py:839: RuntimeWarning: invalid value encountered in greater_equal\n",
            "  keep = (tmp_a >= first_edge)\n",
            "/usr/local/lib/python3.6/dist-packages/numpy/lib/histograms.py:840: RuntimeWarning: invalid value encountered in less_equal\n",
            "  keep &= (tmp_a <= last_edge)\n"
          ],
          "name": "stderr"
        },
        {
          "output_type": "display_data",
          "data": {
            "image/png": "[encoded data removed]",
            "text/plain": [
              "<Figure size 432x288 with 1 Axes>"
            ]
          },
          "metadata": {
            "tags": []
          }
        }
      ]
    },
    {
      "cell_type": "code",
      "metadata": {
        "id": "nsDBifsueM-c",
        "colab_type": "code",
        "outputId": "78b2091c-52a5-4455-c07f-25e2bc014348",
        "colab": {
          "base_uri": "https://localhost:8080/",
          "height": 280
        }
      },
      "source": [
        "\n",
        "# histograma de  de siblings e spouses\n",
        "\n",
        "plt.hist(data = all_df, x = 'SibSp', bins = 8);"
      ],
      "execution_count": 20,
      "outputs": [
        {
          "output_type": "display_data",
          "data": {
            "image/png": "[encoded data removed]",
            "text/plain": [
              "<Figure size 432x288 with 1 Axes>"
            ]
          },
          "metadata": {
            "tags": []
          }
        }
      ]
    },
    {
      "cell_type": "code",
      "metadata": {
        "id": "6Ude_53SeM-l",
        "colab_type": "code",
        "outputId": "ce054d0f-15f3-4606-a224-171849adb6a0",
        "colab": {
          "base_uri": "https://localhost:8080/",
          "height": 280
        }
      },
      "source": [
        "\n",
        "# histograma para parents e children\n",
        "\n",
        "plt.hist(data = all_df, x = 'Parch', bins = 9);"
      ],
      "execution_count": 21,
      "outputs": [
        {
          "output_type": "display_data",
          "data": {
            "image/png": "[encoded data removed]",
            "text/plain": [
              "<Figure size 432x288 with 1 Axes>"
            ]
          },
          "metadata": {
            "tags": []
          }
        }
      ]
    },
    {
      "cell_type": "code",
      "metadata": {
        "id": "um2Hf8i0eM-x",
        "colab_type": "code",
        "outputId": "38434eff-ab97-45a1-fe77-98c2ad89dde7",
        "colab": {
          "base_uri": "https://localhost:8080/",
          "height": 341
        }
      },
      "source": [
        "\n",
        "# inspecionar colunas e valores ausentes novamente\n",
        "all_df.info()"
      ],
      "execution_count": 22,
      "outputs": [
        {
          "output_type": "stream",
          "text": [
            "<class 'pandas.core.frame.DataFrame'>\n",
            "Int64Index: 1309 entries, 0 to 417\n",
            "Data columns (total 12 columns):\n",
            " #   Column       Non-Null Count  Dtype  \n",
            "---  ------       --------------  -----  \n",
            " 0   PassengerId  1309 non-null   int64  \n",
            " 1   Survived     891 non-null    float64\n",
            " 2   Pclass       1309 non-null   int64  \n",
            " 3   Name         1309 non-null   object \n",
            " 4   Sex          1309 non-null   object \n",
            " 5   Age          1046 non-null   float64\n",
            " 6   SibSp        1309 non-null   int64  \n",
            " 7   Parch        1309 non-null   int64  \n",
            " 8   Ticket       1309 non-null   object \n",
            " 9   Fare         1308 non-null   float64\n",
            " 10  Cabin        295 non-null    object \n",
            " 11  Embarked     1309 non-null   object \n",
            "dtypes: float64(3), int64(4), object(5)\n",
            "memory usage: 172.9+ KB\n"
          ],
          "name": "stdout"
        }
      ]
    },
    {
      "cell_type": "code",
      "metadata": {
        "id": "cZVmYEJaeM-5",
        "colab_type": "code",
        "outputId": "15bb19fc-a9fe-40ec-fec8-76571d312604",
        "colab": {
          "base_uri": "https://localhost:8080/",
          "height": 77
        }
      },
      "source": [
        "\n",
        "# encontrar passageiros com dados de tarifa ausentes\n",
        "all_df[all_df.Fare.isnull()]"
      ],
      "execution_count": 23,
      "outputs": [
        {
          "output_type": "execute_result",
          "data": {
            "text/html": [
              "<div>\n",
              "<style scoped>\n",
              "    .dataframe tbody tr th:only-of-type {\n",
              "        vertical-align: middle;\n",
              "    }\n",
              "\n",
              "    .dataframe tbody tr th {\n",
              "        vertical-align: top;\n",
              "    }\n",
              "\n",
              "    .dataframe thead th {\n",
              "        text-align: right;\n",
              "    }\n",
              "</style>\n",
              "<table border=\"1\" class=\"dataframe\">\n",
              "  <thead>\n",
              "    <tr style=\"text-align: right;\">\n",
              "      <th></th>\n",
              "      <th>PassengerId</th>\n",
              "      <th>Survived</th>\n",
              "      <th>Pclass</th>\n",
              "      <th>Name</th>\n",
              "      <th>Sex</th>\n",
              "      <th>Age</th>\n",
              "      <th>SibSp</th>\n",
              "      <th>Parch</th>\n",
              "      <th>Ticket</th>\n",
              "      <th>Fare</th>\n",
              "      <th>Cabin</th>\n",
              "      <th>Embarked</th>\n",
              "    </tr>\n",
              "  </thead>\n",
              "  <tbody>\n",
              "    <tr>\n",
              "      <th>152</th>\n",
              "      <td>1044</td>\n",
              "      <td>NaN</td>\n",
              "      <td>3</td>\n",
              "      <td>Storey, Mr. Thomas</td>\n",
              "      <td>male</td>\n",
              "      <td>60.5</td>\n",
              "      <td>0</td>\n",
              "      <td>0</td>\n",
              "      <td>3701</td>\n",
              "      <td>NaN</td>\n",
              "      <td>NaN</td>\n",
              "      <td>S</td>\n",
              "    </tr>\n",
              "  </tbody>\n",
              "</table>\n",
              "</div>"
            ],
            "text/plain": [
              "     PassengerId  Survived  Pclass  ... Fare Cabin  Embarked\n",
              "152         1044       NaN       3  ...  NaN   NaN         S\n",
              "\n",
              "[1 rows x 12 columns]"
            ]
          },
          "metadata": {
            "tags": []
          },
          "execution_count": 23
        }
      ]
    },
    {
      "cell_type": "code",
      "metadata": {
        "id": "WzTV0yTFeM_G",
        "colab_type": "code",
        "outputId": "2b868e46-8a94-47cc-d9f9-e321ab3675a5",
        "colab": {
          "base_uri": "https://localhost:8080/",
          "height": 102
        }
      },
      "source": [
        "\n",
        "# obter fare média de cada Pclass\n",
        "all_df.Fare.groupby(all_df.Pclass).mean()"
      ],
      "execution_count": 24,
      "outputs": [
        {
          "output_type": "execute_result",
          "data": {
            "text/plain": [
              "Pclass\n",
              "1    87.508992\n",
              "2    21.179196\n",
              "3    13.302889\n",
              "Name: Fare, dtype: float64"
            ]
          },
          "metadata": {
            "tags": []
          },
          "execution_count": 24
        }
      ]
    },
    {
      "cell_type": "code",
      "metadata": {
        "id": "8A2ozn6LeM_M",
        "colab_type": "code",
        "colab": {}
      },
      "source": [
        "# preencha o valor da tarifa nan com média arredondada para a classe 3\n",
        "all_df.loc[152, ['Fare']] = 13"
      ],
      "execution_count": 0,
      "outputs": []
    },
    {
      "cell_type": "code",
      "metadata": {
        "id": "yh3KurGMeM_U",
        "colab_type": "code",
        "colab": {}
      },
      "source": [
        "\n",
        "# preencha os valores ausentes para as idades com o valor médio da idade para cada passageiro Classe e sexo\n",
        "all_df.Age = all_df.Age.groupby([all_df.Pclass, all_df.Sex]).transform(lambda x: x.fillna(x.mean()))"
      ],
      "execution_count": 0,
      "outputs": []
    },
    {
      "cell_type": "code",
      "metadata": {
        "id": "NlZYPL24eM_Y",
        "colab_type": "code",
        "outputId": "36c058b9-8968-470d-e469-5adcbad794bd",
        "colab": {
          "base_uri": "https://localhost:8080/",
          "height": 358
        }
      },
      "source": [
        "\n",
        "# Extraia títulos de nomes e crie uma nova coluna de título e obtenha a taxa de sobrevivência de cada título\n",
        "all_df['Title'] = all_df.Name.str.extract(' ([A-Za-z]+)\\.', expand=False)\n",
        "all_df.Survived.groupby(all_df.Title).mean()"
      ],
      "execution_count": 27,
      "outputs": [
        {
          "output_type": "execute_result",
          "data": {
            "text/plain": [
              "Title\n",
              "Capt        0.000000\n",
              "Col         0.500000\n",
              "Countess    1.000000\n",
              "Don         0.000000\n",
              "Dona             NaN\n",
              "Dr          0.428571\n",
              "Jonkheer    0.000000\n",
              "Lady        1.000000\n",
              "Major       0.500000\n",
              "Master      0.575000\n",
              "Miss        0.697802\n",
              "Mlle        1.000000\n",
              "Mme         1.000000\n",
              "Mr          0.156673\n",
              "Mrs         0.792000\n",
              "Ms          1.000000\n",
              "Rev         0.000000\n",
              "Sir         1.000000\n",
              "Name: Survived, dtype: float64"
            ]
          },
          "metadata": {
            "tags": []
          },
          "execution_count": 27
        }
      ]
    },
    {
      "cell_type": "code",
      "metadata": {
        "id": "g0JgtoOgeM_g",
        "colab_type": "code",
        "outputId": "8a7dae98-b023-4f0c-b6f2-ff770210139b",
        "colab": {
          "base_uri": "https://localhost:8080/",
          "height": 341
        }
      },
      "source": [
        "\n",
        "# obter contagens de valor para ocorrências de título\n",
        "\n",
        "all_df.Title.value_counts()"
      ],
      "execution_count": 28,
      "outputs": [
        {
          "output_type": "execute_result",
          "data": {
            "text/plain": [
              "Mr          757\n",
              "Miss        260\n",
              "Mrs         197\n",
              "Master       61\n",
              "Dr            8\n",
              "Rev           8\n",
              "Col           4\n",
              "Mlle          2\n",
              "Ms            2\n",
              "Major         2\n",
              "Lady          1\n",
              "Sir           1\n",
              "Don           1\n",
              "Countess      1\n",
              "Mme           1\n",
              "Dona          1\n",
              "Jonkheer      1\n",
              "Capt          1\n",
              "Name: Title, dtype: int64"
            ]
          },
          "metadata": {
            "tags": []
          },
          "execution_count": 28
        }
      ]
    },
    {
      "cell_type": "code",
      "metadata": {
        "id": "PZ4OQcE9eM_k",
        "colab_type": "code",
        "outputId": "600f4401-1d31-4d2c-a2bc-eb1eee1d9c3c",
        "colab": {
          "base_uri": "https://localhost:8080/",
          "height": 102
        }
      },
      "source": [
        "\n",
        "# Substitua títulos incomuns por valores mais comuns e visualize novas ocorrências\n",
        "\n",
        "all_df.Title = all_df.Title.replace(['Capt', 'Col', 'Dr', 'Major', 'Rev', 'Don', 'Sir', 'Jonkheer'], 'Mr')\n",
        "all_df.Title = all_df.Title.replace(['Ms', 'Mlle'], 'Miss')\n",
        "all_df.Title = all_df.Title.replace(['Mme', 'Lady', 'Countess', 'Dona'], 'Mrs')\n",
        "all_df.Title.value_counts()"
      ],
      "execution_count": 29,
      "outputs": [
        {
          "output_type": "execute_result",
          "data": {
            "text/plain": [
              "Mr        783\n",
              "Miss      264\n",
              "Mrs       201\n",
              "Master     61\n",
              "Name: Title, dtype: int64"
            ]
          },
          "metadata": {
            "tags": []
          },
          "execution_count": 29
        }
      ]
    },
    {
      "cell_type": "code",
      "metadata": {
        "id": "SyGS4rcceM_p",
        "colab_type": "code",
        "outputId": "4456c80b-5c35-4fb2-b0d7-76a1349e4dfc",
        "colab": {
          "base_uri": "https://localhost:8080/",
          "height": 426
        }
      },
      "source": [
        "\n",
        "# combine sibsp e parch em uma coluna da family\n",
        "all_df['Fam'] = all_df.SibSp + all_df.Parch\n",
        "# criar coluna de frequência do ticket para o número de ocorrências do número do ticket\n",
        "all_df['Ticket_Frequency'] = all_df.groupby('Ticket')['Ticket'].transform('count')\n",
        "    \n",
        "# cria a coluna para solo vs viajar com a family\n",
        "all_df.loc[all_df['Fam'] == 0, 'Solo'] = 1\n",
        "all_df.loc[all_df['Ticket_Frequency'] == 1, 'Solo'] = 1\n",
        "all_df.Solo = all_df.Solo.fillna(0)\n",
        "       \n",
        "# bin tarifa para 9 quantis e codificar como ordinal\n",
        "all_df['Fare'] = pd.qcut(all_df.Fare, q=9, labels=np.arange(1,10))\n",
        "    \n",
        "# bin age para 10 quantis e codifique como ordinal\n",
        "all_df['Age'] = pd.qcut(all_df.Age, q=10, labels=np.arange(1,11))\n",
        "    \n",
        "# one-hot codificar coluna de sexo e colocar maiúsculas em colunas de sexo para obter consistência\n",
        "all_df = pd.concat([all_df, pd.get_dummies(all_df.Sex)], axis=1)\n",
        "all_df.rename(columns={'male':'Male', 'female':'Female'}, inplace=True)\n",
        "    \n",
        "#coluna Embarked de codificação em one-hot\n",
        "all_df = pd.concat([all_df, pd.get_dummies(all_df.Embarked, prefix='Embarked')], axis=1)\n",
        "    \n",
        "# coluna de título de codificação em one-hot\n",
        "all_df = pd.concat([all_df, pd.get_dummies(all_df.Title)], axis=1)\n",
        "    \n",
        "# remove colunas indesejadas (name, sex, cabin, embarked and title foram substituídos por uma  one hot encoding, ticket substituído pela frequency do ticket,\n",
        "# cabin possui muitos valores ausentes, sibsp e parch substituídos por colunas fam e solo)\n",
        "all_df = all_df.drop(columns=['Name', 'Sex', 'Ticket', 'Cabin', 'SibSp', 'Parch', 'Embarked', 'Title'])\n",
        "    \n",
        "# inspecionar colunas e número de valores para df resultante\n",
        "all_df.info()"
      ],
      "execution_count": 30,
      "outputs": [
        {
          "output_type": "stream",
          "text": [
            "<class 'pandas.core.frame.DataFrame'>\n",
            "Int64Index: 1309 entries, 0 to 417\n",
            "Data columns (total 17 columns):\n",
            " #   Column            Non-Null Count  Dtype   \n",
            "---  ------            --------------  -----   \n",
            " 0   PassengerId       1309 non-null   int64   \n",
            " 1   Survived          891 non-null    float64 \n",
            " 2   Pclass            1309 non-null   int64   \n",
            " 3   Age               1309 non-null   category\n",
            " 4   Fare              1309 non-null   category\n",
            " 5   Fam               1309 non-null   int64   \n",
            " 6   Ticket_Frequency  1309 non-null   int64   \n",
            " 7   Solo              1309 non-null   float64 \n",
            " 8   Female            1309 non-null   uint8   \n",
            " 9   Male              1309 non-null   uint8   \n",
            " 10  Embarked_C        1309 non-null   uint8   \n",
            " 11  Embarked_Q        1309 non-null   uint8   \n",
            " 12  Embarked_S        1309 non-null   uint8   \n",
            " 13  Master            1309 non-null   uint8   \n",
            " 14  Miss              1309 non-null   uint8   \n",
            " 15  Mr                1309 non-null   uint8   \n",
            " 16  Mrs               1309 non-null   uint8   \n",
            "dtypes: category(2), float64(2), int64(4), uint8(9)\n",
            "memory usage: 86.4 KB\n"
          ],
          "name": "stdout"
        }
      ]
    },
    {
      "cell_type": "code",
      "metadata": {
        "id": "KaFOSiFCeM_t",
        "colab_type": "code",
        "outputId": "2dbacc16-f542-4ace-be09-750b31c3fb6d",
        "colab": {
          "base_uri": "https://localhost:8080/",
          "height": 204
        }
      },
      "source": [
        "\n",
        "# inspecionar as rates de sobrevivência quanto ao número de membros da família a bordo\n",
        "\n",
        "all_df.Survived.groupby(all_df.Fam).mean()"
      ],
      "execution_count": 31,
      "outputs": [
        {
          "output_type": "execute_result",
          "data": {
            "text/plain": [
              "Fam\n",
              "0     0.303538\n",
              "1     0.552795\n",
              "2     0.578431\n",
              "3     0.724138\n",
              "4     0.200000\n",
              "5     0.136364\n",
              "6     0.333333\n",
              "7     0.000000\n",
              "10    0.000000\n",
              "Name: Survived, dtype: float64"
            ]
          },
          "metadata": {
            "tags": []
          },
          "execution_count": 31
        }
      ]
    },
    {
      "cell_type": "code",
      "metadata": {
        "id": "4TA62nJCeM_z",
        "colab_type": "code",
        "outputId": "216c9f2e-761e-4714-c0f4-bde013e5796c",
        "colab": {
          "base_uri": "https://localhost:8080/",
          "height": 102
        }
      },
      "source": [
        "\n",
        "# obter contagens de valor\n",
        "\n",
        "all_df.Fam = pd.cut(all_df.Fam, bins=[0, 1, 4, 7, 11], include_lowest=True, right=False, labels=[1, 2, 3, 4])\n",
        "all_df.Fam.value_counts()"
      ],
      "execution_count": 32,
      "outputs": [
        {
          "output_type": "execute_result",
          "data": {
            "text/plain": [
              "1    790\n",
              "2    437\n",
              "3     63\n",
              "4     19\n",
              "Name: Fam, dtype: int64"
            ]
          },
          "metadata": {
            "tags": []
          },
          "execution_count": 32
        }
      ]
    },
    {
      "cell_type": "code",
      "metadata": {
        "id": "o4RBUYqteM_2",
        "colab_type": "code",
        "outputId": "9e0948b3-76b2-423f-e982-d989e4527472",
        "colab": {
          "base_uri": "https://localhost:8080/",
          "height": 204
        }
      },
      "source": [
        "\n",
        "# inspecionar a rate de survival para o número de pessoas que viajam em grupo\n",
        "\n",
        "all_df.Survived.groupby(all_df.Ticket_Frequency).mean()"
      ],
      "execution_count": 33,
      "outputs": [
        {
          "output_type": "execute_result",
          "data": {
            "text/plain": [
              "Ticket_Frequency\n",
              "1     0.270270\n",
              "2     0.513812\n",
              "3     0.653465\n",
              "4     0.727273\n",
              "5     0.333333\n",
              "6     0.210526\n",
              "7     0.208333\n",
              "8     0.384615\n",
              "11    0.000000\n",
              "Name: Survived, dtype: float64"
            ]
          },
          "metadata": {
            "tags": []
          },
          "execution_count": 33
        }
      ]
    },
    {
      "cell_type": "code",
      "metadata": {
        "id": "QnWI9BG1eM_7",
        "colab_type": "code",
        "outputId": "d21e671d-85b5-49d9-cdd2-28c225baa4a7",
        "colab": {
          "base_uri": "https://localhost:8080/",
          "height": 102
        }
      },
      "source": [
        "\n",
        "# bin para valores da coluna de frequência do ticket e obter contagens de valores\n",
        "\n",
        "all_df.Ticket_Frequency = pd.cut(all_df.Ticket_Frequency, bins=[0, 2, 5, 9, 12], right=False, labels=[1, 2, 3, 4])\n",
        "all_df.Ticket_Frequency.value_counts()"
      ],
      "execution_count": 34,
      "outputs": [
        {
          "output_type": "execute_result",
          "data": {
            "text/plain": [
              "1    713\n",
              "2    475\n",
              "3    110\n",
              "4     11\n",
              "Name: Ticket_Frequency, dtype: int64"
            ]
          },
          "metadata": {
            "tags": []
          },
          "execution_count": 34
        }
      ]
    },
    {
      "cell_type": "code",
      "metadata": {
        "id": "vIWfu0JreNAD",
        "colab_type": "code",
        "outputId": "fea78680-8d14-4ebb-973d-2eea257a8da4",
        "colab": {
          "base_uri": "https://localhost:8080/",
          "height": 307
        }
      },
      "source": [
        "\n",
        "# faça uma lista de todas as colunas e veja-a\n",
        "\n",
        "cols = list(all_df)\n",
        "cols"
      ],
      "execution_count": 35,
      "outputs": [
        {
          "output_type": "execute_result",
          "data": {
            "text/plain": [
              "['PassengerId',\n",
              " 'Survived',\n",
              " 'Pclass',\n",
              " 'Age',\n",
              " 'Fare',\n",
              " 'Fam',\n",
              " 'Ticket_Frequency',\n",
              " 'Solo',\n",
              " 'Female',\n",
              " 'Male',\n",
              " 'Embarked_C',\n",
              " 'Embarked_Q',\n",
              " 'Embarked_S',\n",
              " 'Master',\n",
              " 'Miss',\n",
              " 'Mr',\n",
              " 'Mrs']"
            ]
          },
          "metadata": {
            "tags": []
          },
          "execution_count": 35
        }
      ]
    },
    {
      "cell_type": "code",
      "metadata": {
        "id": "LBL65vn6eNAI",
        "colab_type": "code",
        "colab": {}
      },
      "source": [
        "\n",
        "# use o MinMaxScaler para dimensionar todas as colunas de recursos no intervalo de 0 a 1\n",
        "\n",
        "scaler = MinMaxScaler()\n",
        "all_df[cols] = scaler.fit_transform(all_df[cols])"
      ],
      "execution_count": 0,
      "outputs": []
    },
    {
      "cell_type": "code",
      "metadata": {
        "id": "jDOyWYO7eNAN",
        "colab_type": "code",
        "colab": {}
      },
      "source": [
        "\n",
        "# criar matriz de etiquetas sobreviventes (treinamento), soltar a coluna sobrevivente de all_df, dividir all_df em recursos (treinamento) e test_df e criar matriz de nomes de colunas de recursos\n",
        "\n",
        "labels = all_df.loc[:890, 'Survived']\n",
        "all_df = all_df.drop(columns = 'Survived')\n",
        "features = all_df.iloc[:891]\n",
        "test_df = all_df.iloc[891:]\n",
        "feat_names = features.columns.values"
      ],
      "execution_count": 0,
      "outputs": []
    },
    {
      "cell_type": "code",
      "metadata": {
        "id": "_b-2A9wyeNAR",
        "colab_type": "code",
        "colab": {}
      },
      "source": [
        "\n",
        "# use SelectKBest para restringir os principais recursos e use o resultado para transformar os recursos de trem e teste dfs\n",
        "k = SelectKBest(k=11)\n",
        "k.fit(features, labels)\n",
        "k_scores = (k.scores_)\n",
        "features = k.transform(features)\n",
        "test_df = k.transform(test_df)"
      ],
      "execution_count": 0,
      "outputs": []
    },
    {
      "cell_type": "code",
      "metadata": {
        "id": "SX5SvT53eNAZ",
        "colab_type": "code",
        "outputId": "857848d2-5a03-46e9-cf01-894f2725849d",
        "colab": {
          "base_uri": "https://localhost:8080/",
          "height": 525
        }
      },
      "source": [
        "\n",
        "# cria o df para mostrar pontuações para todos os recursos e imprimir\n",
        "\n",
        "feat_scores = pd.DataFrame()\n",
        "feat_scores['Feature'] = feat_names\n",
        "feat_scores['Score'] = k_scores\n",
        "feat_scores"
      ],
      "execution_count": 39,
      "outputs": [
        {
          "output_type": "execute_result",
          "data": {
            "text/html": [
              "<div>\n",
              "<style scoped>\n",
              "    .dataframe tbody tr th:only-of-type {\n",
              "        vertical-align: middle;\n",
              "    }\n",
              "\n",
              "    .dataframe tbody tr th {\n",
              "        vertical-align: top;\n",
              "    }\n",
              "\n",
              "    .dataframe thead th {\n",
              "        text-align: right;\n",
              "    }\n",
              "</style>\n",
              "<table border=\"1\" class=\"dataframe\">\n",
              "  <thead>\n",
              "    <tr style=\"text-align: right;\">\n",
              "      <th></th>\n",
              "      <th>Feature</th>\n",
              "      <th>Score</th>\n",
              "    </tr>\n",
              "  </thead>\n",
              "  <tbody>\n",
              "    <tr>\n",
              "      <th>0</th>\n",
              "      <td>PassengerId</td>\n",
              "      <td>0.022285</td>\n",
              "    </tr>\n",
              "    <tr>\n",
              "      <th>1</th>\n",
              "      <td>Pclass</td>\n",
              "      <td>115.031272</td>\n",
              "    </tr>\n",
              "    <tr>\n",
              "      <th>2</th>\n",
              "      <td>Age</td>\n",
              "      <td>0.118749</td>\n",
              "    </tr>\n",
              "    <tr>\n",
              "      <th>3</th>\n",
              "      <td>Fare</td>\n",
              "      <td>108.327062</td>\n",
              "    </tr>\n",
              "    <tr>\n",
              "      <th>4</th>\n",
              "      <td>Fam</td>\n",
              "      <td>6.313788</td>\n",
              "    </tr>\n",
              "    <tr>\n",
              "      <th>5</th>\n",
              "      <td>Ticket_Frequency</td>\n",
              "      <td>17.149390</td>\n",
              "    </tr>\n",
              "    <tr>\n",
              "      <th>6</th>\n",
              "      <td>Solo</td>\n",
              "      <td>47.368609</td>\n",
              "    </tr>\n",
              "    <tr>\n",
              "      <th>7</th>\n",
              "      <td>Female</td>\n",
              "      <td>372.405724</td>\n",
              "    </tr>\n",
              "    <tr>\n",
              "      <th>8</th>\n",
              "      <td>Male</td>\n",
              "      <td>372.405724</td>\n",
              "    </tr>\n",
              "    <tr>\n",
              "      <th>9</th>\n",
              "      <td>Embarked_C</td>\n",
              "      <td>25.895987</td>\n",
              "    </tr>\n",
              "    <tr>\n",
              "      <th>10</th>\n",
              "      <td>Embarked_Q</td>\n",
              "      <td>0.011846</td>\n",
              "    </tr>\n",
              "    <tr>\n",
              "      <th>11</th>\n",
              "      <td>Embarked_S</td>\n",
              "      <td>20.374460</td>\n",
              "    </tr>\n",
              "    <tr>\n",
              "      <th>12</th>\n",
              "      <td>Master</td>\n",
              "      <td>6.503635</td>\n",
              "    </tr>\n",
              "    <tr>\n",
              "      <th>13</th>\n",
              "      <td>Miss</td>\n",
              "      <td>112.860827</td>\n",
              "    </tr>\n",
              "    <tr>\n",
              "      <th>14</th>\n",
              "      <td>Mr</td>\n",
              "      <td>414.442624</td>\n",
              "    </tr>\n",
              "    <tr>\n",
              "      <th>15</th>\n",
              "      <td>Mrs</td>\n",
              "      <td>122.387505</td>\n",
              "    </tr>\n",
              "  </tbody>\n",
              "</table>\n",
              "</div>"
            ],
            "text/plain": [
              "             Feature       Score\n",
              "0        PassengerId    0.022285\n",
              "1             Pclass  115.031272\n",
              "2                Age    0.118749\n",
              "3               Fare  108.327062\n",
              "4                Fam    6.313788\n",
              "5   Ticket_Frequency   17.149390\n",
              "6               Solo   47.368609\n",
              "7             Female  372.405724\n",
              "8               Male  372.405724\n",
              "9         Embarked_C   25.895987\n",
              "10        Embarked_Q    0.011846\n",
              "11        Embarked_S   20.374460\n",
              "12            Master    6.503635\n",
              "13              Miss  112.860827\n",
              "14                Mr  414.442624\n",
              "15               Mrs  122.387505"
            ]
          },
          "metadata": {
            "tags": []
          },
          "execution_count": 39
        }
      ]
    },
    {
      "cell_type": "code",
      "metadata": {
        "id": "6HWwEcUaeNAf",
        "colab_type": "code",
        "colab": {}
      },
      "source": [
        "\n",
        "# dividir dados de treinamento em subconjuntos de treinamento e teste para validação\n",
        "\n",
        "features_train, features_test, labels_train, labels_test = train_test_split(features, labels, test_size=0.30, random_state=0)"
      ],
      "execution_count": 0,
      "outputs": []
    },
    {
      "cell_type": "code",
      "metadata": {
        "id": "8iVAJaPqeNAn",
        "colab_type": "code",
        "colab": {}
      },
      "source": [
        "# setup base classifiers\n",
        "# setup classificadores básicos\n",
        "\n",
        "gb = GradientBoostingClassifier()\n",
        "rf = RandomForestClassifier()\n",
        "et = ExtraTreesClassifier()\n",
        "ab = AdaBoostClassifier()\n",
        "dt = DecisionTreeClassifier()\n",
        "lr = LogisticRegression(solver='liblinear')\n",
        "kn = KNeighborsClassifier()\n",
        "svc = SVC(gamma='auto', probability=True)\n",
        "gnb = GaussianNB()"
      ],
      "execution_count": 0,
      "outputs": []
    },
    {
      "cell_type": "code",
      "metadata": {
        "id": "Pv5DUKqQeNAq",
        "colab_type": "code",
        "outputId": "848bb807-4c56-4db9-f79e-1f2b71b950bc",
        "colab": {
          "base_uri": "https://localhost:8080/",
          "height": 170
        }
      },
      "source": [
        "\n",
        "# obter classificadores básicos de treinamento e obter pontuações de validação inicial\n",
        "\n",
        "gb.fit(features_train, labels_train)\n",
        "print('GB Score:', gb.score(features_test, labels_test))\n",
        "rf.fit(features_train, labels_train)\n",
        "print('RF Score:', rf.score(features_test, labels_test))\n",
        "et.fit(features_train, labels_train)\n",
        "print('ET Score:', et.score(features_test, labels_test))\n",
        "ab.fit(features_train, labels_train)\n",
        "print('AB Score:', ab.score(features_test, labels_test))\n",
        "dt.fit(features_train, labels_train)\n",
        "print('DT Score:', dt.score(features_test, labels_test))\n",
        "lr.fit(features_train, labels_train)\n",
        "print('LR Score:', lr.score(features_test, labels_test))\n",
        "kn.fit(features_train, labels_train)\n",
        "print('KN Score:', kn.score(features_test, labels_test))\n",
        "svc.fit(features_train, labels_train)\n",
        "print('SVC Score:', svc.score(features_test, labels_test))\n",
        "gnb.fit(features_train, labels_train)\n",
        "print('GNB Score:', gnb.score(features_test, labels_test))"
      ],
      "execution_count": 42,
      "outputs": [
        {
          "output_type": "stream",
          "text": [
            "GB Score: 0.8059701492537313\n",
            "RF Score: 0.8171641791044776\n",
            "ET Score: 0.8283582089552238\n",
            "AB Score: 0.8134328358208955\n",
            "DT Score: 0.8059701492537313\n",
            "LR Score: 0.8059701492537313\n",
            "KN Score: 0.832089552238806\n",
            "SVC Score: 0.8022388059701493\n",
            "GNB Score: 0.7910447761194029\n"
          ],
          "name": "stdout"
        }
      ]
    },
    {
      "cell_type": "code",
      "metadata": {
        "id": "GncEZm-XeNAu",
        "colab_type": "code",
        "outputId": "7609018f-7897-405b-fcdf-4db9e33201c6",
        "colab": {
          "base_uri": "https://localhost:8080/",
          "height": 51
        }
      },
      "source": [
        "\n",
        "# use gridsearch para ajustar os hiperparâmetros do classificador base\n",
        "\n",
        "alg = gb\n",
        "params = {'n_estimators': (10, 25, 50, 100), 'learning_rate': (0.01, 0.1, 0.5, 1, 5, 10)}\n",
        "clf = GridSearchCV(alg, params, cv = 5, scoring = 'accuracy', n_jobs = -1)\n",
        "clf.fit(features_train, labels_train)\n",
        "print(\"Best Parameters:\", clf.best_params_)\n",
        "print(\"Best Score:\", clf.best_score_)\n",
        "gb = clf.best_estimator_"
      ],
      "execution_count": 43,
      "outputs": [
        {
          "output_type": "stream",
          "text": [
            "Best Parameters: {'learning_rate': 0.01, 'n_estimators': 100}\n",
            "Best Score: 0.8347096774193548\n"
          ],
          "name": "stdout"
        }
      ]
    },
    {
      "cell_type": "code",
      "metadata": {
        "id": "RXuQyJZAeNAz",
        "colab_type": "code",
        "outputId": "efe645e8-f699-463a-e79c-683ce8351554",
        "colab": {
          "base_uri": "https://localhost:8080/",
          "height": 51
        }
      },
      "source": [
        "\n",
        "# use gridsearch para ajustar os hiperparâmetros do classificador base\n",
        "\n",
        "alg = rf\n",
        "params = {'n_estimators': (10, 25, 50, 100), 'min_samples_split': (2, 3, 4, 5, 10), 'min_samples_leaf': (1, 2, 3, 4, 5)}\n",
        "clf = GridSearchCV(alg, params, cv = 5, scoring = 'accuracy', n_jobs = -1)\n",
        "clf.fit(features_train, labels_train)\n",
        "print(\"Best Parameters:\", clf.best_params_)\n",
        "print(\"Best Score:\", clf.best_score_)\n",
        "rf = clf.best_estimator_"
      ],
      "execution_count": 44,
      "outputs": [
        {
          "output_type": "stream",
          "text": [
            "Best Parameters: {'min_samples_leaf': 2, 'min_samples_split': 10, 'n_estimators': 10}\n",
            "Best Score: 0.8315096774193549\n"
          ],
          "name": "stdout"
        }
      ]
    },
    {
      "cell_type": "code",
      "metadata": {
        "id": "YS4iDJj7eNA4",
        "colab_type": "code",
        "outputId": "2de63a09-0128-42fe-ac5c-0c8ac967f3ba",
        "colab": {
          "base_uri": "https://localhost:8080/",
          "height": 51
        }
      },
      "source": [
        "\n",
        "# use gridsearch para ajustar os hiperparâmetros do classificador base\n",
        "\n",
        "alg = et\n",
        "params = {'n_estimators': (10, 25, 50, 100), 'min_samples_split': (2, 3, 4, 5, 10), 'min_samples_leaf': (1, 2, 3, 4, 5)}\n",
        "clf = GridSearchCV(alg, params, cv = 5, scoring = 'accuracy', n_jobs = -1)\n",
        "clf.fit(features_train, labels_train)\n",
        "print(\"Best Parameters:\", clf.best_params_)\n",
        "print(\"Best Score:\", clf.best_score_)\n",
        "et = clf.best_estimator_"
      ],
      "execution_count": 45,
      "outputs": [
        {
          "output_type": "stream",
          "text": [
            "Best Parameters: {'min_samples_leaf': 5, 'min_samples_split': 5, 'n_estimators': 25}\n",
            "Best Score: 0.8314967741935483\n"
          ],
          "name": "stdout"
        }
      ]
    },
    {
      "cell_type": "code",
      "metadata": {
        "id": "s4D3C53EeNA9",
        "colab_type": "code",
        "outputId": "23d879c3-0612-4f3b-d409-8fdb6be40f47",
        "colab": {
          "base_uri": "https://localhost:8080/",
          "height": 51
        }
      },
      "source": [
        "\n",
        "# use gridsearch para ajustar os hiperparâmetros do classificador base\n",
        "\n",
        "alg = ab\n",
        "params = {'n_estimators': (10, 25, 50, 100), 'learning_rate': (0.01, 0.1, 0.5, 1, 5, 10)}\n",
        "clf = GridSearchCV(alg, params, cv = 5, scoring = 'accuracy', n_jobs = -1)\n",
        "clf.fit(features_train, labels_train)\n",
        "print(\"Best Parameters:\", clf.best_params_)\n",
        "print(\"Best Score:\", clf.best_score_)\n",
        "ab = clf.best_estimator_"
      ],
      "execution_count": 46,
      "outputs": [
        {
          "output_type": "stream",
          "text": [
            "Best Parameters: {'learning_rate': 0.1, 'n_estimators': 50}\n",
            "Best Score: 0.8363354838709677\n"
          ],
          "name": "stdout"
        }
      ]
    },
    {
      "cell_type": "code",
      "metadata": {
        "id": "w3NfekD2eNBD",
        "colab_type": "code",
        "outputId": "6a1dbabd-2889-4d31-d158-d24ede16f220",
        "colab": {
          "base_uri": "https://localhost:8080/",
          "height": 51
        }
      },
      "source": [
        "\n",
        "# use gridsearch para ajustar os hiperparâmetros do classificador base\n",
        "\n",
        "alg = dt\n",
        "params = {'min_samples_split': (2, 3, 4, 5, 10), 'min_samples_leaf': (1, 2, 3, 4, 5)}\n",
        "clf = GridSearchCV(alg, params, cv = 5, scoring = 'accuracy', n_jobs = -1)\n",
        "clf.fit(features_train, labels_train)\n",
        "print(\"Best Parameters:\", clf.best_params_)\n",
        "print(\"Best Score:\", clf.best_score_)\n",
        "dt = clf.best_estimator_"
      ],
      "execution_count": 47,
      "outputs": [
        {
          "output_type": "stream",
          "text": [
            "Best Parameters: {'min_samples_leaf': 5, 'min_samples_split': 3}\n",
            "Best Score: 0.8266451612903225\n"
          ],
          "name": "stdout"
        }
      ]
    },
    {
      "cell_type": "code",
      "metadata": {
        "id": "8liNJo3eeNBI",
        "colab_type": "code",
        "outputId": "45a67ad5-c297-4e6b-809c-60dd4f61f962",
        "colab": {
          "base_uri": "https://localhost:8080/",
          "height": 51
        }
      },
      "source": [
        "\n",
        "# use gridsearch para ajustar os hiperparâmetros do classificador base\n",
        "\n",
        "alg = lr\n",
        "params = {'penalty': ('l1', 'l2'), 'C': (0.01, 0.1, 0.5, 1, 5, 10), 'max_iter': (100, 500)}\n",
        "clf = GridSearchCV(alg, params, cv = 5, scoring = 'accuracy', n_jobs = -1)\n",
        "clf.fit(features_train, labels_train)\n",
        "print(\"Best Parameters:\", clf.best_params_)\n",
        "print(\"Best Score:\", clf.best_score_)\n",
        "lr = clf.best_estimator_"
      ],
      "execution_count": 48,
      "outputs": [
        {
          "output_type": "stream",
          "text": [
            "Best Parameters: {'C': 5, 'max_iter': 100, 'penalty': 'l1'}\n",
            "Best Score: 0.8235096774193549\n"
          ],
          "name": "stdout"
        }
      ]
    },
    {
      "cell_type": "code",
      "metadata": {
        "id": "xy5UnrH_eNBM",
        "colab_type": "code",
        "outputId": "6459adfa-e980-4686-cb9b-5702e8482633",
        "colab": {
          "base_uri": "https://localhost:8080/",
          "height": 51
        }
      },
      "source": [
        "\n",
        "# use gridsearch para ajustar os hiperparâmetros do classificador base\n",
        "\n",
        "alg = kn\n",
        "params = {'n_neighbors': (2, 3, 4, 5, 10, 20)}\n",
        "clf = GridSearchCV(alg, params, cv = 5, scoring = 'accuracy', n_jobs = -1)\n",
        "clf.fit(features_train, labels_train)\n",
        "print(\"Best Parameters:\", clf.best_params_)\n",
        "print(\"Best Score:\", clf.best_score_)\n",
        "kn = clf.best_estimator_"
      ],
      "execution_count": 49,
      "outputs": [
        {
          "output_type": "stream",
          "text": [
            "Best Parameters: {'n_neighbors': 10}\n",
            "Best Score: 0.8250580645161291\n"
          ],
          "name": "stdout"
        }
      ]
    },
    {
      "cell_type": "code",
      "metadata": {
        "id": "4ktx8WsleNBU",
        "colab_type": "code",
        "outputId": "dc3ddeb0-9aa1-4a02-bd5d-c31517eaab5b",
        "colab": {
          "base_uri": "https://localhost:8080/",
          "height": 51
        }
      },
      "source": [
        "\n",
        "# use gridsearch para ajustar os hiperparâmetros do classificador base\n",
        "\n",
        "alg = svc\n",
        "params = {'C': (0.01, 0.1, 0.5, 1, 5, 10), 'kernel': ('linear', 'poly', 'rbf', 'sigmoid')}\n",
        "clf = GridSearchCV(alg, params, cv = 5, scoring = 'accuracy', n_jobs = -1)\n",
        "clf.fit(features_train, labels_train)\n",
        "print(\"Best Parameters:\", clf.best_params_)\n",
        "print(\"Best Score:\", clf.best_score_)\n",
        "svc = clf.best_estimator_"
      ],
      "execution_count": 50,
      "outputs": [
        {
          "output_type": "stream",
          "text": [
            "Best Parameters: {'C': 5, 'kernel': 'rbf'}\n",
            "Best Score: 0.8331096774193549\n"
          ],
          "name": "stdout"
        }
      ]
    },
    {
      "cell_type": "code",
      "metadata": {
        "id": "Rw2yjmTBeNBk",
        "colab_type": "code",
        "outputId": "4ea91395-6201-43eb-e003-d8fa8c1190be",
        "colab": {
          "base_uri": "https://localhost:8080/",
          "height": 170
        }
      },
      "source": [
        "# treinar novamente os classificadores básicos e obter pontuações de validação\n",
        "\n",
        "gb.fit(features_train, labels_train)\n",
        "print('GB Score:', gb.score(features_test, labels_test))\n",
        "rf.fit(features_train, labels_train)\n",
        "print('RF Score:', rf.score(features_test, labels_test))\n",
        "et.fit(features_train, labels_train)\n",
        "print('ET Score:', et.score(features_test, labels_test))\n",
        "ab.fit(features_train, labels_train)\n",
        "print('AB Score:', ab.score(features_test, labels_test))\n",
        "dt.fit(features_train, labels_train)\n",
        "print('DT Score:', dt.score(features_test, labels_test))\n",
        "lr.fit(features_train, labels_train)\n",
        "print('LR Score:', lr.score(features_test, labels_test))\n",
        "kn.fit(features_train, labels_train)\n",
        "print('KN Score:', kn.score(features_test, labels_test))\n",
        "svc.fit(features_train, labels_train)\n",
        "print('SVC Score:', svc.score(features_test, labels_test))\n",
        "gnb.fit(features_train, labels_train)\n",
        "print('GNB Score:', gnb.score(features_test, labels_test))"
      ],
      "execution_count": 51,
      "outputs": [
        {
          "output_type": "stream",
          "text": [
            "GB Score: 0.8283582089552238\n",
            "RF Score: 0.832089552238806\n",
            "ET Score: 0.8246268656716418\n",
            "AB Score: 0.8283582089552238\n",
            "DT Score: 0.7985074626865671\n",
            "LR Score: 0.8134328358208955\n",
            "KN Score: 0.8097014925373134\n",
            "SVC Score: 0.8171641791044776\n",
            "GNB Score: 0.7910447761194029\n"
          ],
          "name": "stdout"
        }
      ]
    },
    {
      "cell_type": "code",
      "metadata": {
        "id": "f0xC3aKyeNBp",
        "colab_type": "code",
        "outputId": "e13d845d-16a0-4b99-f963-37f46834bb58",
        "colab": {
          "base_uri": "https://localhost:8080/",
          "height": 34
        }
      },
      "source": [
        "# setup voting classifier and get initial cross val score\n",
        "# setup classificador de votação e obtenha a pontuação inicial cruzada\n",
        "\n",
        "vote = VotingClassifier(estimators=[('gb',gb), ('rf',rf), ('et',et), ('ab',ab), ('dt',dt), ('lr',lr), ('kn',kn), ('svc',svc), ('gnb',gnb)], voting='soft')\n",
        "vote.fit(features, labels)\n",
        "cross_val_score(vote, features, labels, cv=5, scoring='accuracy').mean()"
      ],
      "execution_count": 52,
      "outputs": [
        {
          "output_type": "execute_result",
          "data": {
            "text/plain": [
              "0.8282781997363632"
            ]
          },
          "metadata": {
            "tags": []
          },
          "execution_count": 52
        }
      ]
    },
    {
      "cell_type": "code",
      "metadata": {
        "id": "wMqmlIXMeNBv",
        "colab_type": "code",
        "outputId": "b761c5dc-ecde-4f05-99e8-aa808fb48212",
        "colab": {
          "base_uri": "https://localhost:8080/",
          "height": 34
        }
      },
      "source": [
        "# retrain voting classifier and get validation score\n",
        "# treinar novamente o classificador de votação e obter pontuação de validação\n",
        "\n",
        "vote.fit(features_train, labels_train)\n",
        "print('Voting Score:', vote.score(features_test, labels_test))"
      ],
      "execution_count": 53,
      "outputs": [
        {
          "output_type": "stream",
          "text": [
            "Voting Score: 0.8246268656716418\n"
          ],
          "name": "stdout"
        }
      ]
    },
    {
      "cell_type": "code",
      "metadata": {
        "id": "SVRxy4-qeNB2",
        "colab_type": "code",
        "colab": {}
      },
      "source": [
        "# use itertools combinations to make list of tuples of all possible different combinations of classifiers\n",
        "# use itertools combinações para criar uma lista de tuplas de todas as combinações diferentes possíveis de classificadores\n",
        "\n",
        "clfs = [('gb',gb), ('rf',rf), ('et',et), ('ab',ab), ('dt',dt), ('lr',lr), ('kn',kn), ('svc',svc), ('gnb',gnb)]\n",
        "combs = []\n",
        "\n",
        "for i in range(2, len(clfs)+1):\n",
        "    comb = [list(x) for x in itertools.combinations(clfs, i)]\n",
        "    combs.extend(comb)"
      ],
      "execution_count": 0,
      "outputs": []
    },
    {
      "cell_type": "code",
      "metadata": {
        "id": "xp1HdNx1eNB9",
        "colab_type": "code",
        "outputId": "131885d0-e2cb-42e7-9ff8-9187c2c0a3e6",
        "colab": {
          "base_uri": "https://localhost:8080/",
          "height": 290
        }
      },
      "source": [
        "# Tune voting classifier to use best combination of base classifiers\n",
        "# Ajuste o classificador de votação para usar a melhor combinação de classificadores de base\n",
        "\n",
        "alg = vote\n",
        "params = {'estimators': combs}\n",
        "clf = GridSearchCV(alg, params, cv = 5, scoring = 'accuracy', n_jobs = -1)\n",
        "clf.fit(features, labels)\n",
        "print(\"Best Parameters:\", clf.best_params_)\n",
        "print(\"Best Score:\", clf.best_score_)\n",
        "vote = clf.best_estimator_"
      ],
      "execution_count": 55,
      "outputs": [
        {
          "output_type": "stream",
          "text": [
            "Best Parameters: {'estimators': [('rf', RandomForestClassifier(bootstrap=True, ccp_alpha=0.0, class_weight=None,\n",
            "                       criterion='gini', max_depth=None, max_features='auto',\n",
            "                       max_leaf_nodes=None, max_samples=None,\n",
            "                       min_impurity_decrease=0.0, min_impurity_split=None,\n",
            "                       min_samples_leaf=2, min_samples_split=10,\n",
            "                       min_weight_fraction_leaf=0.0, n_estimators=10,\n",
            "                       n_jobs=None, oob_score=False, random_state=None,\n",
            "                       verbose=0, warm_start=False)), ('et', ExtraTreesClassifier(bootstrap=False, ccp_alpha=0.0, class_weight=None,\n",
            "                     criterion='gini', max_depth=None, max_features='auto',\n",
            "                     max_leaf_nodes=None, max_samples=None,\n",
            "                     min_impurity_decrease=0.0, min_impurity_split=None,\n",
            "                     min_samples_leaf=5, min_samples_split=5,\n",
            "                     min_weight_fraction_leaf=0.0, n_estimators=25, n_jobs=None,\n",
            "                     oob_score=False, random_state=None, verbose=0,\n",
            "                     warm_start=False))]}\n",
            "Best Score: 0.8394890465130876\n"
          ],
          "name": "stdout"
        }
      ]
    },
    {
      "cell_type": "code",
      "metadata": {
        "id": "Wa59nrkGeNCD",
        "colab_type": "code",
        "outputId": "16899244-bad4-4acd-b6c1-25824c8e20f3",
        "colab": {
          "base_uri": "https://localhost:8080/",
          "height": 34
        }
      },
      "source": [
        "# retrain voting classifier and get validation score\n",
        "# treinar novamente o classificador de votação e obter pontuação de validação\n",
        "\n",
        "vote.fit(features_train, labels_train)\n",
        "print('Voting Score:', vote.score(features_test, labels_test))"
      ],
      "execution_count": 56,
      "outputs": [
        {
          "output_type": "stream",
          "text": [
            "Voting Score: 0.8246268656716418\n"
          ],
          "name": "stdout"
        }
      ]
    },
    {
      "cell_type": "code",
      "metadata": {
        "id": "5X1ZSQHPeNCK",
        "colab_type": "code",
        "colab": {}
      },
      "source": [
        "# retrain voting classifier with full train set, use to make probability predictions and make df of probs, set threshold for probablities and use to convert probs to predictions\n",
        "# treinar novamente o classificador de votação com conjunto completo de train, use para fazer previsões de probabilidade e faça df de probs, defina o limite de probabilidades e use para converter probs em previsões\n",
        "vote.fit(features, labels)\n",
        "pred_prob = pd.DataFrame(vote.predict_proba(test_df))\n",
        "threshold = 0.55\n",
        "y_pred = pred_prob.applymap(lambda x: 1 if x>threshold else 0)"
      ],
      "execution_count": 0,
      "outputs": []
    },
    {
      "cell_type": "code",
      "metadata": {
        "id": "7KO_sZe1eNCN",
        "colab_type": "code",
        "colab": {}
      },
      "source": [
        "# add predictions submission df as survived column, drop all columns but passenger ID and survived, write submission to csv without index to generate submission file\n",
        "# adicionar predições submissão df como coluna sobrevivida, soltar todas as colunas, exceto o ID do passageiro e sobreviver, gravar a submissão em csv sem índice para gerar o arquivo de submissão\n",
        "submission['Survived'] = y_pred[1].astype(int)\n",
        "submission = submission[['PassengerId', 'Survived']]\n",
        "submission.to_csv('sub3.csv', index=False)"
      ],
      "execution_count": 0,
      "outputs": []
    },
    {
      "cell_type": "code",
      "metadata": {
        "id": "prDlk6yBfH-t",
        "colab_type": "code",
        "colab": {}
      },
      "source": [
        "files.download('sub3.csv') "
      ],
      "execution_count": 0,
      "outputs": []
    },
    {
      "cell_type": "code",
      "metadata": {
        "id": "hdCGcquQq_-y",
        "colab_type": "code",
        "colab": {}
      },
      "source": [
        ""
      ],
      "execution_count": 0,
      "outputs": []
    }
  ]
}